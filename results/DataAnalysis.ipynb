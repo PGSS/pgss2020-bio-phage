{
 "cells": [
  {
   "cell_type": "code",
   "execution_count": 2,
   "metadata": {},
   "outputs": [],
   "source": [
    "import pandas as pd\n",
    "from scipy import stats\n",
    "import seaborn as sns\n",
    "import matplotlib.pyplot as plt\n",
    "\n",
    "df = pd.read_csv(\"CombinedData.csv\")\n",
    "phages = pd.read_csv(\"SequencedPhages.csv\")\n",
    "#display(phages)\n",
    "df = pd.merge(df, phages[['Phage Name', 'GC%', 'Temperate?', 'Genome Length(bp)', 'Accession #', 'End Type']], on=['Phage Name'])\n",
    "#display(df)"
   ]
  },
  {
   "cell_type": "code",
   "execution_count": 45,
   "metadata": {},
   "outputs": [
    {
     "data": {
      "text/html": [
       "<div>\n",
       "<style scoped>\n",
       "    .dataframe tbody tr th:only-of-type {\n",
       "        vertical-align: middle;\n",
       "    }\n",
       "\n",
       "    .dataframe tbody tr th {\n",
       "        vertical-align: top;\n",
       "    }\n",
       "\n",
       "    .dataframe thead th {\n",
       "        text-align: right;\n",
       "    }\n",
       "</style>\n",
       "<table border=\"1\" class=\"dataframe\">\n",
       "  <thead>\n",
       "    <tr style=\"text-align: right;\">\n",
       "      <th></th>\n",
       "      <th>Population Density</th>\n",
       "      <th>Year Found</th>\n",
       "      <th>pH</th>\n",
       "      <th>GHI</th>\n",
       "      <th>Dew Point</th>\n",
       "      <th>Albedo</th>\n",
       "      <th>Latitude</th>\n",
       "      <th>Longitude</th>\n",
       "      <th>AQI</th>\n",
       "      <th>PM25</th>\n",
       "      <th>PM10</th>\n",
       "      <th>CO_8H</th>\n",
       "      <th>NO2_1H</th>\n",
       "      <th>SO3_1H</th>\n",
       "      <th>GC%</th>\n",
       "      <th>Genome Length(bp)</th>\n",
       "    </tr>\n",
       "  </thead>\n",
       "  <tbody>\n",
       "    <tr>\n",
       "      <th>Population Density</th>\n",
       "      <td>1.000000</td>\n",
       "      <td>0.017798</td>\n",
       "      <td>0.007916</td>\n",
       "      <td>-0.115222</td>\n",
       "      <td>-0.006195</td>\n",
       "      <td>-0.166587</td>\n",
       "      <td>0.070306</td>\n",
       "      <td>0.181089</td>\n",
       "      <td>0.121695</td>\n",
       "      <td>0.108511</td>\n",
       "      <td>0.110516</td>\n",
       "      <td>0.120116</td>\n",
       "      <td>0.104838</td>\n",
       "      <td>0.108427</td>\n",
       "      <td>0.016914</td>\n",
       "      <td>0.120127</td>\n",
       "    </tr>\n",
       "    <tr>\n",
       "      <th>Year Found</th>\n",
       "      <td>0.017798</td>\n",
       "      <td>1.000000</td>\n",
       "      <td>0.014201</td>\n",
       "      <td>0.007410</td>\n",
       "      <td>0.063542</td>\n",
       "      <td>0.006353</td>\n",
       "      <td>-0.051798</td>\n",
       "      <td>0.091783</td>\n",
       "      <td>-0.011158</td>\n",
       "      <td>0.001548</td>\n",
       "      <td>-0.000784</td>\n",
       "      <td>-0.008480</td>\n",
       "      <td>-0.009034</td>\n",
       "      <td>-0.008699</td>\n",
       "      <td>-0.027223</td>\n",
       "      <td>-0.067988</td>\n",
       "    </tr>\n",
       "    <tr>\n",
       "      <th>pH</th>\n",
       "      <td>0.007916</td>\n",
       "      <td>0.014201</td>\n",
       "      <td>1.000000</td>\n",
       "      <td>0.036262</td>\n",
       "      <td>-0.029506</td>\n",
       "      <td>0.008067</td>\n",
       "      <td>0.002010</td>\n",
       "      <td>-0.042176</td>\n",
       "      <td>0.037011</td>\n",
       "      <td>0.036354</td>\n",
       "      <td>0.035852</td>\n",
       "      <td>0.035187</td>\n",
       "      <td>0.036807</td>\n",
       "      <td>0.035880</td>\n",
       "      <td>0.013587</td>\n",
       "      <td>-0.031100</td>\n",
       "    </tr>\n",
       "    <tr>\n",
       "      <th>GHI</th>\n",
       "      <td>-0.115222</td>\n",
       "      <td>0.007410</td>\n",
       "      <td>0.036262</td>\n",
       "      <td>1.000000</td>\n",
       "      <td>0.492777</td>\n",
       "      <td>-0.570332</td>\n",
       "      <td>-0.842236</td>\n",
       "      <td>-0.575496</td>\n",
       "      <td>0.185265</td>\n",
       "      <td>0.175016</td>\n",
       "      <td>0.179957</td>\n",
       "      <td>0.184635</td>\n",
       "      <td>0.167673</td>\n",
       "      <td>0.183039</td>\n",
       "      <td>-0.039160</td>\n",
       "      <td>0.007190</td>\n",
       "    </tr>\n",
       "    <tr>\n",
       "      <th>Dew Point</th>\n",
       "      <td>-0.006195</td>\n",
       "      <td>0.063542</td>\n",
       "      <td>-0.029506</td>\n",
       "      <td>0.492777</td>\n",
       "      <td>1.000000</td>\n",
       "      <td>-0.719566</td>\n",
       "      <td>-0.831925</td>\n",
       "      <td>0.100285</td>\n",
       "      <td>0.097968</td>\n",
       "      <td>0.088149</td>\n",
       "      <td>0.090253</td>\n",
       "      <td>0.096426</td>\n",
       "      <td>0.091877</td>\n",
       "      <td>0.096366</td>\n",
       "      <td>-0.014536</td>\n",
       "      <td>0.012757</td>\n",
       "    </tr>\n",
       "    <tr>\n",
       "      <th>Albedo</th>\n",
       "      <td>-0.166587</td>\n",
       "      <td>0.006353</td>\n",
       "      <td>0.008067</td>\n",
       "      <td>-0.570332</td>\n",
       "      <td>-0.719566</td>\n",
       "      <td>1.000000</td>\n",
       "      <td>0.727373</td>\n",
       "      <td>0.067361</td>\n",
       "      <td>-0.358451</td>\n",
       "      <td>-0.332178</td>\n",
       "      <td>-0.338482</td>\n",
       "      <td>-0.356434</td>\n",
       "      <td>-0.328943</td>\n",
       "      <td>-0.344673</td>\n",
       "      <td>0.021174</td>\n",
       "      <td>-0.029600</td>\n",
       "    </tr>\n",
       "    <tr>\n",
       "      <th>Latitude</th>\n",
       "      <td>0.070306</td>\n",
       "      <td>-0.051798</td>\n",
       "      <td>0.002010</td>\n",
       "      <td>-0.842236</td>\n",
       "      <td>-0.831925</td>\n",
       "      <td>0.727373</td>\n",
       "      <td>1.000000</td>\n",
       "      <td>0.216033</td>\n",
       "      <td>-0.191950</td>\n",
       "      <td>-0.173240</td>\n",
       "      <td>-0.177345</td>\n",
       "      <td>-0.189376</td>\n",
       "      <td>-0.177641</td>\n",
       "      <td>-0.187441</td>\n",
       "      <td>0.032086</td>\n",
       "      <td>0.004087</td>\n",
       "    </tr>\n",
       "    <tr>\n",
       "      <th>Longitude</th>\n",
       "      <td>0.181089</td>\n",
       "      <td>0.091783</td>\n",
       "      <td>-0.042176</td>\n",
       "      <td>-0.575496</td>\n",
       "      <td>0.100285</td>\n",
       "      <td>0.067361</td>\n",
       "      <td>0.216033</td>\n",
       "      <td>1.000000</td>\n",
       "      <td>0.121045</td>\n",
       "      <td>0.104405</td>\n",
       "      <td>0.105415</td>\n",
       "      <td>0.120632</td>\n",
       "      <td>0.114940</td>\n",
       "      <td>0.111510</td>\n",
       "      <td>0.032885</td>\n",
       "      <td>0.001062</td>\n",
       "    </tr>\n",
       "    <tr>\n",
       "      <th>AQI</th>\n",
       "      <td>0.121695</td>\n",
       "      <td>-0.011158</td>\n",
       "      <td>0.037011</td>\n",
       "      <td>0.185265</td>\n",
       "      <td>0.097968</td>\n",
       "      <td>-0.358451</td>\n",
       "      <td>-0.191950</td>\n",
       "      <td>0.121045</td>\n",
       "      <td>1.000000</td>\n",
       "      <td>0.973415</td>\n",
       "      <td>0.983104</td>\n",
       "      <td>0.998727</td>\n",
       "      <td>0.953544</td>\n",
       "      <td>0.984196</td>\n",
       "      <td>0.005259</td>\n",
       "      <td>-0.028851</td>\n",
       "    </tr>\n",
       "    <tr>\n",
       "      <th>PM25</th>\n",
       "      <td>0.108511</td>\n",
       "      <td>0.001548</td>\n",
       "      <td>0.036354</td>\n",
       "      <td>0.175016</td>\n",
       "      <td>0.088149</td>\n",
       "      <td>-0.332178</td>\n",
       "      <td>-0.173240</td>\n",
       "      <td>0.104405</td>\n",
       "      <td>0.973415</td>\n",
       "      <td>1.000000</td>\n",
       "      <td>0.997520</td>\n",
       "      <td>0.975352</td>\n",
       "      <td>0.969638</td>\n",
       "      <td>0.989025</td>\n",
       "      <td>0.006306</td>\n",
       "      <td>-0.025657</td>\n",
       "    </tr>\n",
       "    <tr>\n",
       "      <th>PM10</th>\n",
       "      <td>0.110516</td>\n",
       "      <td>-0.000784</td>\n",
       "      <td>0.035852</td>\n",
       "      <td>0.179957</td>\n",
       "      <td>0.090253</td>\n",
       "      <td>-0.338482</td>\n",
       "      <td>-0.177345</td>\n",
       "      <td>0.105415</td>\n",
       "      <td>0.983104</td>\n",
       "      <td>0.997520</td>\n",
       "      <td>1.000000</td>\n",
       "      <td>0.986252</td>\n",
       "      <td>0.959228</td>\n",
       "      <td>0.986915</td>\n",
       "      <td>0.006587</td>\n",
       "      <td>-0.025545</td>\n",
       "    </tr>\n",
       "    <tr>\n",
       "      <th>CO_8H</th>\n",
       "      <td>0.120116</td>\n",
       "      <td>-0.008480</td>\n",
       "      <td>0.035187</td>\n",
       "      <td>0.184635</td>\n",
       "      <td>0.096426</td>\n",
       "      <td>-0.356434</td>\n",
       "      <td>-0.189376</td>\n",
       "      <td>0.120632</td>\n",
       "      <td>0.998727</td>\n",
       "      <td>0.975352</td>\n",
       "      <td>0.986252</td>\n",
       "      <td>1.000000</td>\n",
       "      <td>0.944632</td>\n",
       "      <td>0.980355</td>\n",
       "      <td>0.006761</td>\n",
       "      <td>-0.027214</td>\n",
       "    </tr>\n",
       "    <tr>\n",
       "      <th>NO2_1H</th>\n",
       "      <td>0.104838</td>\n",
       "      <td>-0.009034</td>\n",
       "      <td>0.036807</td>\n",
       "      <td>0.167673</td>\n",
       "      <td>0.091877</td>\n",
       "      <td>-0.328943</td>\n",
       "      <td>-0.177641</td>\n",
       "      <td>0.114940</td>\n",
       "      <td>0.953544</td>\n",
       "      <td>0.969638</td>\n",
       "      <td>0.959228</td>\n",
       "      <td>0.944632</td>\n",
       "      <td>1.000000</td>\n",
       "      <td>0.989546</td>\n",
       "      <td>0.002751</td>\n",
       "      <td>-0.030975</td>\n",
       "    </tr>\n",
       "    <tr>\n",
       "      <th>SO3_1H</th>\n",
       "      <td>0.108427</td>\n",
       "      <td>-0.008699</td>\n",
       "      <td>0.035880</td>\n",
       "      <td>0.183039</td>\n",
       "      <td>0.096366</td>\n",
       "      <td>-0.344673</td>\n",
       "      <td>-0.187441</td>\n",
       "      <td>0.111510</td>\n",
       "      <td>0.984196</td>\n",
       "      <td>0.989025</td>\n",
       "      <td>0.986915</td>\n",
       "      <td>0.980355</td>\n",
       "      <td>0.989546</td>\n",
       "      <td>1.000000</td>\n",
       "      <td>0.004557</td>\n",
       "      <td>-0.029876</td>\n",
       "    </tr>\n",
       "    <tr>\n",
       "      <th>GC%</th>\n",
       "      <td>0.016914</td>\n",
       "      <td>-0.027223</td>\n",
       "      <td>0.013587</td>\n",
       "      <td>-0.039160</td>\n",
       "      <td>-0.014536</td>\n",
       "      <td>0.021174</td>\n",
       "      <td>0.032086</td>\n",
       "      <td>0.032885</td>\n",
       "      <td>0.005259</td>\n",
       "      <td>0.006306</td>\n",
       "      <td>0.006587</td>\n",
       "      <td>0.006761</td>\n",
       "      <td>0.002751</td>\n",
       "      <td>0.004557</td>\n",
       "      <td>1.000000</td>\n",
       "      <td>-0.178358</td>\n",
       "    </tr>\n",
       "    <tr>\n",
       "      <th>Genome Length(bp)</th>\n",
       "      <td>0.120127</td>\n",
       "      <td>-0.067988</td>\n",
       "      <td>-0.031100</td>\n",
       "      <td>0.007190</td>\n",
       "      <td>0.012757</td>\n",
       "      <td>-0.029600</td>\n",
       "      <td>0.004087</td>\n",
       "      <td>0.001062</td>\n",
       "      <td>-0.028851</td>\n",
       "      <td>-0.025657</td>\n",
       "      <td>-0.025545</td>\n",
       "      <td>-0.027214</td>\n",
       "      <td>-0.030975</td>\n",
       "      <td>-0.029876</td>\n",
       "      <td>-0.178358</td>\n",
       "      <td>1.000000</td>\n",
       "    </tr>\n",
       "  </tbody>\n",
       "</table>\n",
       "</div>"
      ],
      "text/plain": [
       "                    Population Density  Year Found        pH       GHI  \\\n",
       "Population Density            1.000000    0.017798  0.007916 -0.115222   \n",
       "Year Found                    0.017798    1.000000  0.014201  0.007410   \n",
       "pH                            0.007916    0.014201  1.000000  0.036262   \n",
       "GHI                          -0.115222    0.007410  0.036262  1.000000   \n",
       "Dew Point                    -0.006195    0.063542 -0.029506  0.492777   \n",
       "Albedo                       -0.166587    0.006353  0.008067 -0.570332   \n",
       "Latitude                      0.070306   -0.051798  0.002010 -0.842236   \n",
       "Longitude                     0.181089    0.091783 -0.042176 -0.575496   \n",
       "AQI                           0.121695   -0.011158  0.037011  0.185265   \n",
       "PM25                          0.108511    0.001548  0.036354  0.175016   \n",
       "PM10                          0.110516   -0.000784  0.035852  0.179957   \n",
       "CO_8H                         0.120116   -0.008480  0.035187  0.184635   \n",
       "NO2_1H                        0.104838   -0.009034  0.036807  0.167673   \n",
       "SO3_1H                        0.108427   -0.008699  0.035880  0.183039   \n",
       "GC%                           0.016914   -0.027223  0.013587 -0.039160   \n",
       "Genome Length(bp)             0.120127   -0.067988 -0.031100  0.007190   \n",
       "\n",
       "                    Dew Point    Albedo  Latitude  Longitude       AQI  \\\n",
       "Population Density  -0.006195 -0.166587  0.070306   0.181089  0.121695   \n",
       "Year Found           0.063542  0.006353 -0.051798   0.091783 -0.011158   \n",
       "pH                  -0.029506  0.008067  0.002010  -0.042176  0.037011   \n",
       "GHI                  0.492777 -0.570332 -0.842236  -0.575496  0.185265   \n",
       "Dew Point            1.000000 -0.719566 -0.831925   0.100285  0.097968   \n",
       "Albedo              -0.719566  1.000000  0.727373   0.067361 -0.358451   \n",
       "Latitude            -0.831925  0.727373  1.000000   0.216033 -0.191950   \n",
       "Longitude            0.100285  0.067361  0.216033   1.000000  0.121045   \n",
       "AQI                  0.097968 -0.358451 -0.191950   0.121045  1.000000   \n",
       "PM25                 0.088149 -0.332178 -0.173240   0.104405  0.973415   \n",
       "PM10                 0.090253 -0.338482 -0.177345   0.105415  0.983104   \n",
       "CO_8H                0.096426 -0.356434 -0.189376   0.120632  0.998727   \n",
       "NO2_1H               0.091877 -0.328943 -0.177641   0.114940  0.953544   \n",
       "SO3_1H               0.096366 -0.344673 -0.187441   0.111510  0.984196   \n",
       "GC%                 -0.014536  0.021174  0.032086   0.032885  0.005259   \n",
       "Genome Length(bp)    0.012757 -0.029600  0.004087   0.001062 -0.028851   \n",
       "\n",
       "                        PM25      PM10     CO_8H    NO2_1H    SO3_1H  \\\n",
       "Population Density  0.108511  0.110516  0.120116  0.104838  0.108427   \n",
       "Year Found          0.001548 -0.000784 -0.008480 -0.009034 -0.008699   \n",
       "pH                  0.036354  0.035852  0.035187  0.036807  0.035880   \n",
       "GHI                 0.175016  0.179957  0.184635  0.167673  0.183039   \n",
       "Dew Point           0.088149  0.090253  0.096426  0.091877  0.096366   \n",
       "Albedo             -0.332178 -0.338482 -0.356434 -0.328943 -0.344673   \n",
       "Latitude           -0.173240 -0.177345 -0.189376 -0.177641 -0.187441   \n",
       "Longitude           0.104405  0.105415  0.120632  0.114940  0.111510   \n",
       "AQI                 0.973415  0.983104  0.998727  0.953544  0.984196   \n",
       "PM25                1.000000  0.997520  0.975352  0.969638  0.989025   \n",
       "PM10                0.997520  1.000000  0.986252  0.959228  0.986915   \n",
       "CO_8H               0.975352  0.986252  1.000000  0.944632  0.980355   \n",
       "NO2_1H              0.969638  0.959228  0.944632  1.000000  0.989546   \n",
       "SO3_1H              0.989025  0.986915  0.980355  0.989546  1.000000   \n",
       "GC%                 0.006306  0.006587  0.006761  0.002751  0.004557   \n",
       "Genome Length(bp)  -0.025657 -0.025545 -0.027214 -0.030975 -0.029876   \n",
       "\n",
       "                         GC%  Genome Length(bp)  \n",
       "Population Density  0.016914           0.120127  \n",
       "Year Found         -0.027223          -0.067988  \n",
       "pH                  0.013587          -0.031100  \n",
       "GHI                -0.039160           0.007190  \n",
       "Dew Point          -0.014536           0.012757  \n",
       "Albedo              0.021174          -0.029600  \n",
       "Latitude            0.032086           0.004087  \n",
       "Longitude           0.032885           0.001062  \n",
       "AQI                 0.005259          -0.028851  \n",
       "PM25                0.006306          -0.025657  \n",
       "PM10                0.006587          -0.025545  \n",
       "CO_8H               0.006761          -0.027214  \n",
       "NO2_1H              0.002751          -0.030975  \n",
       "SO3_1H              0.004557          -0.029876  \n",
       "GC%                 1.000000          -0.178358  \n",
       "Genome Length(bp)  -0.178358           1.000000  "
      ]
     },
     "metadata": {},
     "output_type": "display_data"
    }
   ],
   "source": [
    "correlation = df.corr(method='pearson')\n",
    "display(correlation)"
   ]
  },
  {
   "cell_type": "code",
   "execution_count": 59,
   "metadata": {},
   "outputs": [
    {
     "data": {
      "image/png": "[encoded data removed]",
      "text/plain": [
       "<Figure size 1440x1440 with 2 Axes>"
      ]
     },
     "metadata": {
      "needs_background": "light"
     },
     "output_type": "display_data"
    }
   ],
   "source": [
    "plt.imshow(correlation, cmap=\"YlGnBu\")\n",
    "plt.colorbar()\n",
    "plt.xticks(range(len(correlation)),correlation.columns, rotation=90)\n",
    "plt.yticks(range(len(correlation)),correlation.index)\n",
    "plt.tight_layout()\n",
    "plt.rcParams[\"figure.figsize\"] = (20,20)\n",
    "plt.rcParams.update({'font.size': 30})\n",
    "plt.savefig(\"Heatmap Enviornmental Factors.png\")\n",
    "plt.show()"
   ]
  },
  {
   "cell_type": "code",
   "execution_count": 22,
   "metadata": {},
   "outputs": [],
   "source": [
    "correlation.to_csv(\"PearsonCorrelation.csv\")"
   ]
  },
  {
   "cell_type": "code",
   "execution_count": 33,
   "metadata": {},
   "outputs": [],
   "source": [
    "#df[df['Temperate?']=='FALSE'].median()"
   ]
  },
  {
   "cell_type": "code",
   "execution_count": 34,
   "metadata": {},
   "outputs": [],
   "source": [
    "#df[df['Temperate?']=='FALSE'].median()"
   ]
  },
  {
   "cell_type": "code",
   "execution_count": 14,
   "metadata": {},
   "outputs": [
    {
     "data": {
      "text/plain": [
       "Ttest_indResult(statistic=-13.014367182981012, pvalue=1.2852143264549943e-37)"
      ]
     },
     "execution_count": 14,
     "metadata": {},
     "output_type": "execute_result"
    }
   ],
   "source": [
    "\n",
    "\n",
    "factor = 'Genome Length(bp)'\n",
    "\n",
    "temperate = df[df['Temperate?']=='TRUE'].dropna(subset=[factor])\n",
    "not_temperate = df[df['Temperate?']=='FALSE'].dropna(subset=[factor])\n",
    "\n",
    "#ttest\n",
    "stats.ttest_ind(temperate[factor], not_temperate[factor])"
   ]
  },
  {
   "cell_type": "code",
   "execution_count": 5,
   "metadata": {},
   "outputs": [],
   "source": [
    "df.to_csv('CombinedData.csv', index=False)"
   ]
  },
  {
   "cell_type": "code",
   "execution_count": 8,
   "metadata": {},
   "outputs": [
    {
     "data": {
      "text/plain": [
       "<matplotlib.axes._subplots.AxesSubplot at 0x10f26f9d0>"
      ]
     },
     "execution_count": 8,
     "metadata": {},
     "output_type": "execute_result"
    },
    {
     "data": {
      "image/png": "[encoded data removed]",
      "text/plain": [
       "<Figure size 432x288 with 1 Axes>"
      ]
     },
     "metadata": {
      "needs_background": "light"
     },
     "output_type": "display_data"
    }
   ],
   "source": [
    "df.plot.scatter(x='GHI',y='Dew Point')"
   ]
  },
  {
   "cell_type": "code",
   "execution_count": 9,
   "metadata": {},
   "outputs": [
    {
     "data": {
      "text/plain": [
       "<matplotlib.axes._subplots.AxesSubplot at 0x123d83bd0>"
      ]
     },
     "execution_count": 9,
     "metadata": {},
     "output_type": "execute_result"
    },
    {
     "data": {
      "image/png": "[encoded data removed]",
      "text/plain": [
       "<Figure size 432x288 with 1 Axes>"
      ]
     },
     "metadata": {
      "needs_background": "light"
     },
     "output_type": "display_data"
    }
   ],
   "source": [
    "df.plot.scatter(x='GHI',y='Albedo')"
   ]
  },
  {
   "cell_type": "code",
   "execution_count": 10,
   "metadata": {},
   "outputs": [
    {
     "data": {
      "text/plain": [
       "<matplotlib.axes._subplots.AxesSubplot at 0x124211c90>"
      ]
     },
     "execution_count": 10,
     "metadata": {},
     "output_type": "execute_result"
    },
    {
     "data": {
      "image/png": "[encoded data removed]",
      "text/plain": [
       "<Figure size 432x288 with 1 Axes>"
      ]
     },
     "metadata": {
      "needs_background": "light"
     },
     "output_type": "display_data"
    }
   ],
   "source": [
    "df.plot.scatter(x='Dew Point',y='Albedo')"
   ]
  },
  {
   "cell_type": "code",
   "execution_count": 11,
   "metadata": {},
   "outputs": [
    {
     "data": {
      "text/plain": [
       "<matplotlib.axes._subplots.AxesSubplot at 0x123302d50>"
      ]
     },
     "execution_count": 11,
     "metadata": {},
     "output_type": "execute_result"
    },
    {
     "data": {
      "image/png": "[encoded data removed]",
      "text/plain": [
       "<Figure size 432x288 with 1 Axes>"
      ]
     },
     "metadata": {
      "needs_background": "light"
     },
     "output_type": "display_data"
    }
   ],
   "source": [
    "df.plot.scatter(x='AQI',y='Albedo')"
   ]
  },
  {
   "cell_type": "code",
   "execution_count": 6,
   "metadata": {},
   "outputs": [
    {
     "data": {
      "image/png": "[encoded data removed]",
      "text/plain": [
       "<Figure size 432x288 with 1 Axes>"
      ]
     },
     "metadata": {
      "needs_background": "light"
     },
     "output_type": "display_data"
    }
   ],
   "source": [
    "plot_latvsalbed = df.plot.scatter(x='Latitude',y='Albedo')\n",
    "fig_latvsAlbedo = plot_latvsalbed.get_figure()\n",
    "fig_latvsAlbedo.tight_layout()\n",
    "fig_latvsAlbedo.savefig('Latitude vs Albedo')"
   ]
  },
  {
   "cell_type": "code",
   "execution_count": 7,
   "metadata": {},
   "outputs": [
    {
     "data": {
      "image/png": "[encoded data removed]",
      "text/plain": [
       "<Figure size 432x288 with 1 Axes>"
      ]
     },
     "metadata": {
      "needs_background": "light"
     },
     "output_type": "display_data"
    }
   ],
   "source": [
    "plot_latvsdew = df.plot.scatter(x='Latitude',y='Dew Point')\n",
    "fig_latvsdew = plot_latvsdew.get_figure()\n",
    "fig_latvsdew.tight_layout()\n",
    "fig_latvsdew.savefig('Latitude vs Dew Point')"
   ]
  },
  {
   "cell_type": "code",
   "execution_count": 20,
   "metadata": {},
   "outputs": [
    {
     "data": {
      "text/plain": [
       "Population Density     1759.000000\n",
       "Year Found             2015.000000\n",
       "pH                        7.782413\n",
       "GHI                     175.670548\n",
       "Dew Point                 6.426256\n",
       "Albedo                    0.197178\n",
       "Latitude                 40.080000\n",
       "Longitude               -83.013500\n",
       "AQI                      38.000000\n",
       "PM25                      9.100000\n",
       "PM10                     41.000000\n",
       "CO_8H                     3.300000\n",
       "NO2_1H                   40.000000\n",
       "SO3_1H                   26.000000\n",
       "GC%                      63.700000\n",
       "Genome Length(bp)     51696.000000\n",
       "dtype: float64"
      ]
     },
     "execution_count": 20,
     "metadata": {},
     "output_type": "execute_result"
    }
   ],
   "source": [
    "df[df[\"End Type\"]==\"3' Sticky Overhang\"].median()"
   ]
  },
  {
   "cell_type": "code",
   "execution_count": 21,
   "metadata": {},
   "outputs": [
    {
     "data": {
      "text/plain": [
       "Population Density     3070.000000\n",
       "Year Found             2016.000000\n",
       "pH                        7.788735\n",
       "GHI                     174.196461\n",
       "Dew Point                 6.315868\n",
       "Albedo                    0.207288\n",
       "Latitude                 40.105937\n",
       "Longitude               -79.962857\n",
       "AQI                      38.000000\n",
       "PM25                      9.100000\n",
       "PM10                     41.000000\n",
       "CO_8H                     3.300000\n",
       "NO2_1H                   40.000000\n",
       "SO3_1H                   26.000000\n",
       "GC%                      66.400000\n",
       "Genome Length(bp)     68318.000000\n",
       "dtype: float64"
      ]
     },
     "execution_count": 21,
     "metadata": {},
     "output_type": "execute_result"
    }
   ],
   "source": [
    "df[df[\"End Type\"]==\"Circularly Permuted\"].median()"
   ]
  },
  {
   "cell_type": "code",
   "execution_count": 22,
   "metadata": {},
   "outputs": [
    {
     "data": {
      "text/plain": [
       "Population Density     3941.000000\n",
       "Year Found             2016.000000\n",
       "pH                        7.786909\n",
       "GHI                     174.354224\n",
       "Dew Point                 6.463699\n",
       "Albedo                    0.207370\n",
       "Latitude                 40.128559\n",
       "Longitude               -86.534229\n",
       "AQI                      37.500000\n",
       "PM25                      8.950000\n",
       "PM10                     40.000000\n",
       "CO_8H                     3.250000\n",
       "NO2_1H                   39.500000\n",
       "SO3_1H                   25.500000\n",
       "GC%                      58.900000\n",
       "Genome Length(bp)     75462.000000\n",
       "dtype: float64"
      ]
     },
     "execution_count": 22,
     "metadata": {},
     "output_type": "execute_result"
    }
   ],
   "source": [
    "df[df[\"End Type\"]==\"Direct Terminal Repeat\"].median()"
   ]
  },
  {
   "cell_type": "code",
   "execution_count": 23,
   "metadata": {},
   "outputs": [
    {
     "data": {
      "text/plain": [
       "Zipcode               18220.000000\n",
       "Population Density     8691.500000\n",
       "Year Found             2017.500000\n",
       "pH                        7.843275\n",
       "GHI                     165.319749\n",
       "Dew Point                 6.244064\n",
       "Albedo                    0.210630\n",
       "Latitude                 40.447441\n",
       "Longitude               -79.955997\n",
       "AQI                      34.000000\n",
       "PM25                      8.100000\n",
       "PM10                     36.000000\n",
       "CO_8H                     2.900000\n",
       "NO2_1H                   36.000000\n",
       "SO3_1H                   23.000000\n",
       "GC%                      56.200000\n",
       "Genome Length(bp)     19679.000000\n",
       "dtype: float64"
      ]
     },
     "execution_count": 23,
     "metadata": {},
     "output_type": "execute_result"
    }
   ],
   "source": [
    "df[df[\"End Type\"]==\"Covalent Terminal Protein\"].median()"
   ]
  },
  {
   "cell_type": "code",
   "execution_count": 28,
   "metadata": {},
   "outputs": [
    {
     "data": {
      "text/plain": [
       "F_onewayResult(statistic=229.6570038178226, pvalue=6.484390964678395e-133)"
      ]
     },
     "execution_count": 28,
     "metadata": {},
     "output_type": "execute_result"
    }
   ],
   "source": [
    "factor = 'Genome Length(bp)'\n",
    "\n",
    "sticky_overhang = df[df[\"End Type\"]==\"3' Sticky Overhang\"].dropna(subset=[factor])\n",
    "circularly_permutated = df[df[\"End Type\"]==\"Circularly Permuted\"].dropna(subset=[factor])\n",
    "covalent_terminal = df[df[\"End Type\"]==\"Covalent Terminal Protein\"].dropna(subset=[factor])\n",
    "direct_terminal = df[df[\"End Type\"]==\"Direct Terminal Repeat\"].dropna(subset=[factor])\n",
    "\n",
    "#ANOVA\n",
    "stats.f_oneway(sticky_overhang[factor], circularly_permutated[factor], covalent_terminal[factor], direct_terminal[factor])"
   ]
  },
  {
   "cell_type": "code",
   "execution_count": 29,
   "metadata": {},
   "outputs": [
    {
     "data": {
      "text/plain": [
       "Population Density     4869.063174\n",
       "Year Found             2014.387097\n",
       "pH                        7.762782\n",
       "GHI                     181.820497\n",
       "Dew Point                 7.202598\n",
       "Albedo                    0.204339\n",
       "Latitude                 38.756732\n",
       "Longitude               -87.119127\n",
       "AQI                      35.869440\n",
       "PM25                      8.764934\n",
       "PM10                     39.154824\n",
       "CO_8H                     3.120046\n",
       "NO2_1H                   37.454650\n",
       "SO3_1H                   24.750433\n",
       "GC%                      63.173510\n",
       "Genome Length(bp)     53281.465692\n",
       "dtype: float64"
      ]
     },
     "execution_count": 29,
     "metadata": {},
     "output_type": "execute_result"
    }
   ],
   "source": [
    "df[df[\"End Type\"]==\"3' Sticky Overhang\"].mean()"
   ]
  },
  {
   "cell_type": "code",
   "execution_count": 30,
   "metadata": {},
   "outputs": [
    {
     "data": {
      "text/plain": [
       "Population Density     6572.212727\n",
       "Year Found             2014.840112\n",
       "pH                        7.761531\n",
       "GHI                     179.698618\n",
       "Dew Point                 6.928190\n",
       "Albedo                    0.204558\n",
       "Latitude                 39.077883\n",
       "Longitude               -84.880034\n",
       "AQI                      37.597964\n",
       "PM25                      9.332824\n",
       "PM10                     41.636132\n",
       "CO_8H                     3.283333\n",
       "NO2_1H                   39.229008\n",
       "SO3_1H                   25.991094\n",
       "GC%                      65.296989\n",
       "Genome Length(bp)     76963.717691\n",
       "dtype: float64"
      ]
     },
     "execution_count": 30,
     "metadata": {},
     "output_type": "execute_result"
    }
   ],
   "source": [
    "df[df[\"End Type\"]==\"Circularly Permuted\"].mean()"
   ]
  },
  {
   "cell_type": "code",
   "execution_count": 31,
   "metadata": {},
   "outputs": [
    {
     "data": {
      "text/plain": [
       "Population Density     8220.252336\n",
       "Year Found             2016.333333\n",
       "pH                        7.765138\n",
       "GHI                     179.347625\n",
       "Dew Point                 7.071376\n",
       "Albedo                    0.205301\n",
       "Latitude                 39.048116\n",
       "Longitude               -87.204634\n",
       "AQI                      35.867470\n",
       "PM25                      8.822892\n",
       "PM10                     39.307229\n",
       "CO_8H                     3.118675\n",
       "NO2_1H                   37.518072\n",
       "SO3_1H                   24.734940\n",
       "GC%                      56.360479\n",
       "Genome Length(bp)     90569.892216\n",
       "dtype: float64"
      ]
     },
     "execution_count": 31,
     "metadata": {},
     "output_type": "execute_result"
    }
   ],
   "source": [
    "df[df[\"End Type\"]==\"Direct Terminal Repeat\"].mean()"
   ]
  },
  {
   "cell_type": "code",
   "execution_count": 32,
   "metadata": {},
   "outputs": [
    {
     "data": {
      "text/plain": [
       "Population Density     8691.500000\n",
       "Year Found             2017.500000\n",
       "pH                        7.843275\n",
       "GHI                     169.007839\n",
       "Dew Point                 5.355974\n",
       "Albedo                    0.240046\n",
       "Latitude                 41.513381\n",
       "Longitude               -83.083525\n",
       "AQI                      24.666667\n",
       "PM25                      5.900000\n",
       "PM10                     26.000000\n",
       "CO_8H                     2.100000\n",
       "NO2_1H                   26.000000\n",
       "SO3_1H                   16.666667\n",
       "GC%                      56.400000\n",
       "Genome Length(bp)     74675.000000\n",
       "dtype: float64"
      ]
     },
     "execution_count": 32,
     "metadata": {},
     "output_type": "execute_result"
    }
   ],
   "source": [
    "df[df[\"End Type\"]==\"Covalent Terminal Protein\"].mean()"
   ]
  },
  {
   "cell_type": "code",
   "execution_count": 34,
   "metadata": {},
   "outputs": [
    {
     "data": {
      "text/plain": [
       "<matplotlib.axes._subplots.AxesSubplot at 0x1a27f74a10>"
      ]
     },
     "execution_count": 34,
     "metadata": {},
     "output_type": "execute_result"
    },
    {
     "name": "stdout",
     "output_type": "stream",
     "text": [
      "Error in callback <function flush_figures at 0x1236083b0> (for post_execute):\n"
     ]
    },
    {
     "ename": "KeyboardInterrupt",
     "evalue": "",
     "output_type": "error",
     "traceback": [
      "\u001b[0;31m---------------------------------------------------------------------------\u001b[0m",
      "\u001b[0;31mKeyboardInterrupt\u001b[0m                         Traceback (most recent call last)",
      "\u001b[0;32m~/opt/anaconda3/lib/python3.7/site-packages/ipykernel/pylab/backend_inline.py\u001b[0m in \u001b[0;36mflush_figures\u001b[0;34m()\u001b[0m\n\u001b[1;32m    119\u001b[0m         \u001b[0;31m# ignore the tracking, just draw and close all figures\u001b[0m\u001b[0;34m\u001b[0m\u001b[0;34m\u001b[0m\u001b[0;34m\u001b[0m\u001b[0m\n\u001b[1;32m    120\u001b[0m         \u001b[0;32mtry\u001b[0m\u001b[0;34m:\u001b[0m\u001b[0;34m\u001b[0m\u001b[0;34m\u001b[0m\u001b[0m\n\u001b[0;32m--> 121\u001b[0;31m             \u001b[0;32mreturn\u001b[0m \u001b[0mshow\u001b[0m\u001b[0;34m(\u001b[0m\u001b[0;32mTrue\u001b[0m\u001b[0;34m)\u001b[0m\u001b[0;34m\u001b[0m\u001b[0;34m\u001b[0m\u001b[0m\n\u001b[0m\u001b[1;32m    122\u001b[0m         \u001b[0;32mexcept\u001b[0m \u001b[0mException\u001b[0m \u001b[0;32mas\u001b[0m \u001b[0me\u001b[0m\u001b[0;34m:\u001b[0m\u001b[0;34m\u001b[0m\u001b[0;34m\u001b[0m\u001b[0m\n\u001b[1;32m    123\u001b[0m             \u001b[0;31m# safely show traceback if in IPython, else raise\u001b[0m\u001b[0;34m\u001b[0m\u001b[0;34m\u001b[0m\u001b[0;34m\u001b[0m\u001b[0m\n",
      "\u001b[0;32m~/opt/anaconda3/lib/python3.7/site-packages/ipykernel/pylab/backend_inline.py\u001b[0m in \u001b[0;36mshow\u001b[0;34m(close, block)\u001b[0m\n\u001b[1;32m     41\u001b[0m             display(\n\u001b[1;32m     42\u001b[0m                 \u001b[0mfigure_manager\u001b[0m\u001b[0;34m.\u001b[0m\u001b[0mcanvas\u001b[0m\u001b[0;34m.\u001b[0m\u001b[0mfigure\u001b[0m\u001b[0;34m,\u001b[0m\u001b[0;34m\u001b[0m\u001b[0;34m\u001b[0m\u001b[0m\n\u001b[0;32m---> 43\u001b[0;31m                 \u001b[0mmetadata\u001b[0m\u001b[0;34m=\u001b[0m\u001b[0m_fetch_figure_metadata\u001b[0m\u001b[0;34m(\u001b[0m\u001b[0mfigure_manager\u001b[0m\u001b[0;34m.\u001b[0m\u001b[0mcanvas\u001b[0m\u001b[0;34m.\u001b[0m\u001b[0mfigure\u001b[0m\u001b[0;34m)\u001b[0m\u001b[0;34m\u001b[0m\u001b[0;34m\u001b[0m\u001b[0m\n\u001b[0m\u001b[1;32m     44\u001b[0m             )\n\u001b[1;32m     45\u001b[0m     \u001b[0;32mfinally\u001b[0m\u001b[0;34m:\u001b[0m\u001b[0;34m\u001b[0m\u001b[0;34m\u001b[0m\u001b[0m\n",
      "\u001b[0;32m~/opt/anaconda3/lib/python3.7/site-packages/IPython/core/display.py\u001b[0m in \u001b[0;36mdisplay\u001b[0;34m(include, exclude, metadata, transient, display_id, *objs, **kwargs)\u001b[0m\n\u001b[1;32m    311\u001b[0m             \u001b[0mpublish_display_data\u001b[0m\u001b[0;34m(\u001b[0m\u001b[0mdata\u001b[0m\u001b[0;34m=\u001b[0m\u001b[0mobj\u001b[0m\u001b[0;34m,\u001b[0m \u001b[0mmetadata\u001b[0m\u001b[0;34m=\u001b[0m\u001b[0mmetadata\u001b[0m\u001b[0;34m,\u001b[0m \u001b[0;34m**\u001b[0m\u001b[0mkwargs\u001b[0m\u001b[0;34m)\u001b[0m\u001b[0;34m\u001b[0m\u001b[0;34m\u001b[0m\u001b[0m\n\u001b[1;32m    312\u001b[0m         \u001b[0;32melse\u001b[0m\u001b[0;34m:\u001b[0m\u001b[0;34m\u001b[0m\u001b[0;34m\u001b[0m\u001b[0m\n\u001b[0;32m--> 313\u001b[0;31m             \u001b[0mformat_dict\u001b[0m\u001b[0;34m,\u001b[0m \u001b[0mmd_dict\u001b[0m \u001b[0;34m=\u001b[0m \u001b[0mformat\u001b[0m\u001b[0;34m(\u001b[0m\u001b[0mobj\u001b[0m\u001b[0;34m,\u001b[0m \u001b[0minclude\u001b[0m\u001b[0;34m=\u001b[0m\u001b[0minclude\u001b[0m\u001b[0;34m,\u001b[0m \u001b[0mexclude\u001b[0m\u001b[0;34m=\u001b[0m\u001b[0mexclude\u001b[0m\u001b[0;34m)\u001b[0m\u001b[0;34m\u001b[0m\u001b[0;34m\u001b[0m\u001b[0m\n\u001b[0m\u001b[1;32m    314\u001b[0m             \u001b[0;32mif\u001b[0m \u001b[0;32mnot\u001b[0m \u001b[0mformat_dict\u001b[0m\u001b[0;34m:\u001b[0m\u001b[0;34m\u001b[0m\u001b[0;34m\u001b[0m\u001b[0m\n\u001b[1;32m    315\u001b[0m                 \u001b[0;31m# nothing to display (e.g. _ipython_display_ took over)\u001b[0m\u001b[0;34m\u001b[0m\u001b[0;34m\u001b[0m\u001b[0;34m\u001b[0m\u001b[0m\n",
      "\u001b[0;32m~/opt/anaconda3/lib/python3.7/site-packages/IPython/core/formatters.py\u001b[0m in \u001b[0;36mformat\u001b[0;34m(self, obj, include, exclude)\u001b[0m\n\u001b[1;32m    178\u001b[0m             \u001b[0mmd\u001b[0m \u001b[0;34m=\u001b[0m \u001b[0;32mNone\u001b[0m\u001b[0;34m\u001b[0m\u001b[0;34m\u001b[0m\u001b[0m\n\u001b[1;32m    179\u001b[0m             \u001b[0;32mtry\u001b[0m\u001b[0;34m:\u001b[0m\u001b[0;34m\u001b[0m\u001b[0;34m\u001b[0m\u001b[0m\n\u001b[0;32m--> 180\u001b[0;31m                 \u001b[0mdata\u001b[0m \u001b[0;34m=\u001b[0m \u001b[0mformatter\u001b[0m\u001b[0;34m(\u001b[0m\u001b[0mobj\u001b[0m\u001b[0;34m)\u001b[0m\u001b[0;34m\u001b[0m\u001b[0;34m\u001b[0m\u001b[0m\n\u001b[0m\u001b[1;32m    181\u001b[0m             \u001b[0;32mexcept\u001b[0m\u001b[0;34m:\u001b[0m\u001b[0;34m\u001b[0m\u001b[0;34m\u001b[0m\u001b[0m\n\u001b[1;32m    182\u001b[0m                 \u001b[0;31m# FIXME: log the exception\u001b[0m\u001b[0;34m\u001b[0m\u001b[0;34m\u001b[0m\u001b[0;34m\u001b[0m\u001b[0m\n",
      "\u001b[0;32m<decorator-gen-9>\u001b[0m in \u001b[0;36m__call__\u001b[0;34m(self, obj)\u001b[0m\n",
      "\u001b[0;32m~/opt/anaconda3/lib/python3.7/site-packages/IPython/core/formatters.py\u001b[0m in \u001b[0;36mcatch_format_error\u001b[0;34m(method, self, *args, **kwargs)\u001b[0m\n\u001b[1;32m    222\u001b[0m     \u001b[0;34m\"\"\"show traceback on failed format call\"\"\"\u001b[0m\u001b[0;34m\u001b[0m\u001b[0;34m\u001b[0m\u001b[0m\n\u001b[1;32m    223\u001b[0m     \u001b[0;32mtry\u001b[0m\u001b[0;34m:\u001b[0m\u001b[0;34m\u001b[0m\u001b[0;34m\u001b[0m\u001b[0m\n\u001b[0;32m--> 224\u001b[0;31m         \u001b[0mr\u001b[0m \u001b[0;34m=\u001b[0m \u001b[0mmethod\u001b[0m\u001b[0;34m(\u001b[0m\u001b[0mself\u001b[0m\u001b[0;34m,\u001b[0m \u001b[0;34m*\u001b[0m\u001b[0margs\u001b[0m\u001b[0;34m,\u001b[0m \u001b[0;34m**\u001b[0m\u001b[0mkwargs\u001b[0m\u001b[0;34m)\u001b[0m\u001b[0;34m\u001b[0m\u001b[0;34m\u001b[0m\u001b[0m\n\u001b[0m\u001b[1;32m    225\u001b[0m     \u001b[0;32mexcept\u001b[0m \u001b[0mNotImplementedError\u001b[0m\u001b[0;34m:\u001b[0m\u001b[0;34m\u001b[0m\u001b[0;34m\u001b[0m\u001b[0m\n\u001b[1;32m    226\u001b[0m         \u001b[0;31m# don't warn on NotImplementedErrors\u001b[0m\u001b[0;34m\u001b[0m\u001b[0;34m\u001b[0m\u001b[0;34m\u001b[0m\u001b[0m\n",
      "\u001b[0;32m~/opt/anaconda3/lib/python3.7/site-packages/IPython/core/formatters.py\u001b[0m in \u001b[0;36m__call__\u001b[0;34m(self, obj)\u001b[0m\n\u001b[1;32m    339\u001b[0m                 \u001b[0;32mpass\u001b[0m\u001b[0;34m\u001b[0m\u001b[0;34m\u001b[0m\u001b[0m\n\u001b[1;32m    340\u001b[0m             \u001b[0;32melse\u001b[0m\u001b[0;34m:\u001b[0m\u001b[0;34m\u001b[0m\u001b[0;34m\u001b[0m\u001b[0m\n\u001b[0;32m--> 341\u001b[0;31m                 \u001b[0;32mreturn\u001b[0m \u001b[0mprinter\u001b[0m\u001b[0;34m(\u001b[0m\u001b[0mobj\u001b[0m\u001b[0;34m)\u001b[0m\u001b[0;34m\u001b[0m\u001b[0;34m\u001b[0m\u001b[0m\n\u001b[0m\u001b[1;32m    342\u001b[0m             \u001b[0;31m# Finally look for special method names\u001b[0m\u001b[0;34m\u001b[0m\u001b[0;34m\u001b[0m\u001b[0;34m\u001b[0m\u001b[0m\n\u001b[1;32m    343\u001b[0m             \u001b[0mmethod\u001b[0m \u001b[0;34m=\u001b[0m \u001b[0mget_real_method\u001b[0m\u001b[0;34m(\u001b[0m\u001b[0mobj\u001b[0m\u001b[0;34m,\u001b[0m \u001b[0mself\u001b[0m\u001b[0;34m.\u001b[0m\u001b[0mprint_method\u001b[0m\u001b[0;34m)\u001b[0m\u001b[0;34m\u001b[0m\u001b[0;34m\u001b[0m\u001b[0m\n",
      "\u001b[0;32m~/opt/anaconda3/lib/python3.7/site-packages/IPython/core/pylabtools.py\u001b[0m in \u001b[0;36m<lambda>\u001b[0;34m(fig)\u001b[0m\n\u001b[1;32m    246\u001b[0m \u001b[0;34m\u001b[0m\u001b[0m\n\u001b[1;32m    247\u001b[0m     \u001b[0;32mif\u001b[0m \u001b[0;34m'png'\u001b[0m \u001b[0;32min\u001b[0m \u001b[0mformats\u001b[0m\u001b[0;34m:\u001b[0m\u001b[0;34m\u001b[0m\u001b[0;34m\u001b[0m\u001b[0m\n\u001b[0;32m--> 248\u001b[0;31m         \u001b[0mpng_formatter\u001b[0m\u001b[0;34m.\u001b[0m\u001b[0mfor_type\u001b[0m\u001b[0;34m(\u001b[0m\u001b[0mFigure\u001b[0m\u001b[0;34m,\u001b[0m \u001b[0;32mlambda\u001b[0m \u001b[0mfig\u001b[0m\u001b[0;34m:\u001b[0m \u001b[0mprint_figure\u001b[0m\u001b[0;34m(\u001b[0m\u001b[0mfig\u001b[0m\u001b[0;34m,\u001b[0m \u001b[0;34m'png'\u001b[0m\u001b[0;34m,\u001b[0m \u001b[0;34m**\u001b[0m\u001b[0mkwargs\u001b[0m\u001b[0;34m)\u001b[0m\u001b[0;34m)\u001b[0m\u001b[0;34m\u001b[0m\u001b[0;34m\u001b[0m\u001b[0m\n\u001b[0m\u001b[1;32m    249\u001b[0m     \u001b[0;32mif\u001b[0m \u001b[0;34m'retina'\u001b[0m \u001b[0;32min\u001b[0m \u001b[0mformats\u001b[0m \u001b[0;32mor\u001b[0m \u001b[0;34m'png2x'\u001b[0m \u001b[0;32min\u001b[0m \u001b[0mformats\u001b[0m\u001b[0;34m:\u001b[0m\u001b[0;34m\u001b[0m\u001b[0;34m\u001b[0m\u001b[0m\n\u001b[1;32m    250\u001b[0m         \u001b[0mpng_formatter\u001b[0m\u001b[0;34m.\u001b[0m\u001b[0mfor_type\u001b[0m\u001b[0;34m(\u001b[0m\u001b[0mFigure\u001b[0m\u001b[0;34m,\u001b[0m \u001b[0;32mlambda\u001b[0m \u001b[0mfig\u001b[0m\u001b[0;34m:\u001b[0m \u001b[0mretina_figure\u001b[0m\u001b[0;34m(\u001b[0m\u001b[0mfig\u001b[0m\u001b[0;34m,\u001b[0m \u001b[0;34m**\u001b[0m\u001b[0mkwargs\u001b[0m\u001b[0;34m)\u001b[0m\u001b[0;34m)\u001b[0m\u001b[0;34m\u001b[0m\u001b[0;34m\u001b[0m\u001b[0m\n",
      "\u001b[0;32m~/opt/anaconda3/lib/python3.7/site-packages/IPython/core/pylabtools.py\u001b[0m in \u001b[0;36mprint_figure\u001b[0;34m(fig, fmt, bbox_inches, **kwargs)\u001b[0m\n\u001b[1;32m    130\u001b[0m         \u001b[0mFigureCanvasBase\u001b[0m\u001b[0;34m(\u001b[0m\u001b[0mfig\u001b[0m\u001b[0;34m)\u001b[0m\u001b[0;34m\u001b[0m\u001b[0;34m\u001b[0m\u001b[0m\n\u001b[1;32m    131\u001b[0m \u001b[0;34m\u001b[0m\u001b[0m\n\u001b[0;32m--> 132\u001b[0;31m     \u001b[0mfig\u001b[0m\u001b[0;34m.\u001b[0m\u001b[0mcanvas\u001b[0m\u001b[0;34m.\u001b[0m\u001b[0mprint_figure\u001b[0m\u001b[0;34m(\u001b[0m\u001b[0mbytes_io\u001b[0m\u001b[0;34m,\u001b[0m \u001b[0;34m**\u001b[0m\u001b[0mkw\u001b[0m\u001b[0;34m)\u001b[0m\u001b[0;34m\u001b[0m\u001b[0;34m\u001b[0m\u001b[0m\n\u001b[0m\u001b[1;32m    133\u001b[0m     \u001b[0mdata\u001b[0m \u001b[0;34m=\u001b[0m \u001b[0mbytes_io\u001b[0m\u001b[0;34m.\u001b[0m\u001b[0mgetvalue\u001b[0m\u001b[0;34m(\u001b[0m\u001b[0;34m)\u001b[0m\u001b[0;34m\u001b[0m\u001b[0;34m\u001b[0m\u001b[0m\n\u001b[1;32m    134\u001b[0m     \u001b[0;32mif\u001b[0m \u001b[0mfmt\u001b[0m \u001b[0;34m==\u001b[0m \u001b[0;34m'svg'\u001b[0m\u001b[0;34m:\u001b[0m\u001b[0;34m\u001b[0m\u001b[0;34m\u001b[0m\u001b[0m\n",
      "\u001b[0;32m~/opt/anaconda3/lib/python3.7/site-packages/matplotlib/backend_bases.py\u001b[0m in \u001b[0;36mprint_figure\u001b[0;34m(self, filename, dpi, facecolor, edgecolor, orientation, format, bbox_inches, **kwargs)\u001b[0m\n\u001b[1;32m   2124\u001b[0m                     \u001b[0morientation\u001b[0m\u001b[0;34m=\u001b[0m\u001b[0morientation\u001b[0m\u001b[0;34m,\u001b[0m\u001b[0;34m\u001b[0m\u001b[0;34m\u001b[0m\u001b[0m\n\u001b[1;32m   2125\u001b[0m                     \u001b[0mbbox_inches_restore\u001b[0m\u001b[0;34m=\u001b[0m\u001b[0m_bbox_inches_restore\u001b[0m\u001b[0;34m,\u001b[0m\u001b[0;34m\u001b[0m\u001b[0;34m\u001b[0m\u001b[0m\n\u001b[0;32m-> 2126\u001b[0;31m                     **kwargs)\n\u001b[0m\u001b[1;32m   2127\u001b[0m             \u001b[0;32mfinally\u001b[0m\u001b[0;34m:\u001b[0m\u001b[0;34m\u001b[0m\u001b[0;34m\u001b[0m\u001b[0m\n\u001b[1;32m   2128\u001b[0m                 \u001b[0;32mif\u001b[0m \u001b[0mbbox_inches\u001b[0m \u001b[0;32mand\u001b[0m \u001b[0mrestore_bbox\u001b[0m\u001b[0;34m:\u001b[0m\u001b[0;34m\u001b[0m\u001b[0;34m\u001b[0m\u001b[0m\n",
      "\u001b[0;32m~/opt/anaconda3/lib/python3.7/site-packages/matplotlib/backends/backend_agg.py\u001b[0m in \u001b[0;36mprint_png\u001b[0;34m(self, filename_or_obj, metadata, pil_kwargs, *args, **kwargs)\u001b[0m\n\u001b[1;32m    512\u001b[0m         }\n\u001b[1;32m    513\u001b[0m \u001b[0;34m\u001b[0m\u001b[0m\n\u001b[0;32m--> 514\u001b[0;31m         \u001b[0mFigureCanvasAgg\u001b[0m\u001b[0;34m.\u001b[0m\u001b[0mdraw\u001b[0m\u001b[0;34m(\u001b[0m\u001b[0mself\u001b[0m\u001b[0;34m)\u001b[0m\u001b[0;34m\u001b[0m\u001b[0;34m\u001b[0m\u001b[0m\n\u001b[0m\u001b[1;32m    515\u001b[0m         \u001b[0;32mif\u001b[0m \u001b[0mpil_kwargs\u001b[0m \u001b[0;32mis\u001b[0m \u001b[0;32mnot\u001b[0m \u001b[0;32mNone\u001b[0m\u001b[0;34m:\u001b[0m\u001b[0;34m\u001b[0m\u001b[0;34m\u001b[0m\u001b[0m\n\u001b[1;32m    516\u001b[0m             \u001b[0;32mfrom\u001b[0m \u001b[0mPIL\u001b[0m \u001b[0;32mimport\u001b[0m \u001b[0mImage\u001b[0m\u001b[0;34m\u001b[0m\u001b[0;34m\u001b[0m\u001b[0m\n",
      "\u001b[0;32m~/opt/anaconda3/lib/python3.7/site-packages/matplotlib/backends/backend_agg.py\u001b[0m in \u001b[0;36mdraw\u001b[0;34m(self)\u001b[0m\n\u001b[1;32m    391\u001b[0m              (self.toolbar._wait_cursor_for_draw_cm() if self.toolbar\n\u001b[1;32m    392\u001b[0m               else nullcontext()):\n\u001b[0;32m--> 393\u001b[0;31m             \u001b[0mself\u001b[0m\u001b[0;34m.\u001b[0m\u001b[0mfigure\u001b[0m\u001b[0;34m.\u001b[0m\u001b[0mdraw\u001b[0m\u001b[0;34m(\u001b[0m\u001b[0mself\u001b[0m\u001b[0;34m.\u001b[0m\u001b[0mrenderer\u001b[0m\u001b[0;34m)\u001b[0m\u001b[0;34m\u001b[0m\u001b[0;34m\u001b[0m\u001b[0m\n\u001b[0m\u001b[1;32m    394\u001b[0m             \u001b[0;31m# A GUI class may be need to update a window using this draw, so\u001b[0m\u001b[0;34m\u001b[0m\u001b[0;34m\u001b[0m\u001b[0;34m\u001b[0m\u001b[0m\n\u001b[1;32m    395\u001b[0m             \u001b[0;31m# don't forget to call the superclass.\u001b[0m\u001b[0;34m\u001b[0m\u001b[0;34m\u001b[0m\u001b[0;34m\u001b[0m\u001b[0m\n",
      "\u001b[0;32m~/opt/anaconda3/lib/python3.7/site-packages/matplotlib/artist.py\u001b[0m in \u001b[0;36mdraw_wrapper\u001b[0;34m(artist, renderer, *args, **kwargs)\u001b[0m\n\u001b[1;32m     36\u001b[0m                 \u001b[0mrenderer\u001b[0m\u001b[0;34m.\u001b[0m\u001b[0mstart_filter\u001b[0m\u001b[0;34m(\u001b[0m\u001b[0;34m)\u001b[0m\u001b[0;34m\u001b[0m\u001b[0;34m\u001b[0m\u001b[0m\n\u001b[1;32m     37\u001b[0m \u001b[0;34m\u001b[0m\u001b[0m\n\u001b[0;32m---> 38\u001b[0;31m             \u001b[0;32mreturn\u001b[0m \u001b[0mdraw\u001b[0m\u001b[0;34m(\u001b[0m\u001b[0martist\u001b[0m\u001b[0;34m,\u001b[0m \u001b[0mrenderer\u001b[0m\u001b[0;34m,\u001b[0m \u001b[0;34m*\u001b[0m\u001b[0margs\u001b[0m\u001b[0;34m,\u001b[0m \u001b[0;34m**\u001b[0m\u001b[0mkwargs\u001b[0m\u001b[0;34m)\u001b[0m\u001b[0;34m\u001b[0m\u001b[0;34m\u001b[0m\u001b[0m\n\u001b[0m\u001b[1;32m     39\u001b[0m         \u001b[0;32mfinally\u001b[0m\u001b[0;34m:\u001b[0m\u001b[0;34m\u001b[0m\u001b[0;34m\u001b[0m\u001b[0m\n\u001b[1;32m     40\u001b[0m             \u001b[0;32mif\u001b[0m \u001b[0martist\u001b[0m\u001b[0;34m.\u001b[0m\u001b[0mget_agg_filter\u001b[0m\u001b[0;34m(\u001b[0m\u001b[0;34m)\u001b[0m \u001b[0;32mis\u001b[0m \u001b[0;32mnot\u001b[0m \u001b[0;32mNone\u001b[0m\u001b[0;34m:\u001b[0m\u001b[0;34m\u001b[0m\u001b[0;34m\u001b[0m\u001b[0m\n",
      "\u001b[0;32m~/opt/anaconda3/lib/python3.7/site-packages/matplotlib/figure.py\u001b[0m in \u001b[0;36mdraw\u001b[0;34m(self, renderer)\u001b[0m\n\u001b[1;32m   1734\u001b[0m             \u001b[0mself\u001b[0m\u001b[0;34m.\u001b[0m\u001b[0mpatch\u001b[0m\u001b[0;34m.\u001b[0m\u001b[0mdraw\u001b[0m\u001b[0;34m(\u001b[0m\u001b[0mrenderer\u001b[0m\u001b[0;34m)\u001b[0m\u001b[0;34m\u001b[0m\u001b[0;34m\u001b[0m\u001b[0m\n\u001b[1;32m   1735\u001b[0m             mimage._draw_list_compositing_images(\n\u001b[0;32m-> 1736\u001b[0;31m                 renderer, self, artists, self.suppressComposite)\n\u001b[0m\u001b[1;32m   1737\u001b[0m \u001b[0;34m\u001b[0m\u001b[0m\n\u001b[1;32m   1738\u001b[0m             \u001b[0mrenderer\u001b[0m\u001b[0;34m.\u001b[0m\u001b[0mclose_group\u001b[0m\u001b[0;34m(\u001b[0m\u001b[0;34m'figure'\u001b[0m\u001b[0;34m)\u001b[0m\u001b[0;34m\u001b[0m\u001b[0;34m\u001b[0m\u001b[0m\n",
      "\u001b[0;32m~/opt/anaconda3/lib/python3.7/site-packages/matplotlib/image.py\u001b[0m in \u001b[0;36m_draw_list_compositing_images\u001b[0;34m(renderer, parent, artists, suppress_composite)\u001b[0m\n\u001b[1;32m    135\u001b[0m     \u001b[0;32mif\u001b[0m \u001b[0mnot_composite\u001b[0m \u001b[0;32mor\u001b[0m \u001b[0;32mnot\u001b[0m \u001b[0mhas_images\u001b[0m\u001b[0;34m:\u001b[0m\u001b[0;34m\u001b[0m\u001b[0;34m\u001b[0m\u001b[0m\n\u001b[1;32m    136\u001b[0m         \u001b[0;32mfor\u001b[0m \u001b[0ma\u001b[0m \u001b[0;32min\u001b[0m \u001b[0martists\u001b[0m\u001b[0;34m:\u001b[0m\u001b[0;34m\u001b[0m\u001b[0;34m\u001b[0m\u001b[0m\n\u001b[0;32m--> 137\u001b[0;31m             \u001b[0ma\u001b[0m\u001b[0;34m.\u001b[0m\u001b[0mdraw\u001b[0m\u001b[0;34m(\u001b[0m\u001b[0mrenderer\u001b[0m\u001b[0;34m)\u001b[0m\u001b[0;34m\u001b[0m\u001b[0;34m\u001b[0m\u001b[0m\n\u001b[0m\u001b[1;32m    138\u001b[0m     \u001b[0;32melse\u001b[0m\u001b[0;34m:\u001b[0m\u001b[0;34m\u001b[0m\u001b[0;34m\u001b[0m\u001b[0m\n\u001b[1;32m    139\u001b[0m         \u001b[0;31m# Composite any adjacent images together\u001b[0m\u001b[0;34m\u001b[0m\u001b[0;34m\u001b[0m\u001b[0;34m\u001b[0m\u001b[0m\n",
      "\u001b[0;32m~/opt/anaconda3/lib/python3.7/site-packages/matplotlib/artist.py\u001b[0m in \u001b[0;36mdraw_wrapper\u001b[0;34m(artist, renderer, *args, **kwargs)\u001b[0m\n\u001b[1;32m     36\u001b[0m                 \u001b[0mrenderer\u001b[0m\u001b[0;34m.\u001b[0m\u001b[0mstart_filter\u001b[0m\u001b[0;34m(\u001b[0m\u001b[0;34m)\u001b[0m\u001b[0;34m\u001b[0m\u001b[0;34m\u001b[0m\u001b[0m\n\u001b[1;32m     37\u001b[0m \u001b[0;34m\u001b[0m\u001b[0m\n\u001b[0;32m---> 38\u001b[0;31m             \u001b[0;32mreturn\u001b[0m \u001b[0mdraw\u001b[0m\u001b[0;34m(\u001b[0m\u001b[0martist\u001b[0m\u001b[0;34m,\u001b[0m \u001b[0mrenderer\u001b[0m\u001b[0;34m,\u001b[0m \u001b[0;34m*\u001b[0m\u001b[0margs\u001b[0m\u001b[0;34m,\u001b[0m \u001b[0;34m**\u001b[0m\u001b[0mkwargs\u001b[0m\u001b[0;34m)\u001b[0m\u001b[0;34m\u001b[0m\u001b[0;34m\u001b[0m\u001b[0m\n\u001b[0m\u001b[1;32m     39\u001b[0m         \u001b[0;32mfinally\u001b[0m\u001b[0;34m:\u001b[0m\u001b[0;34m\u001b[0m\u001b[0;34m\u001b[0m\u001b[0m\n\u001b[1;32m     40\u001b[0m             \u001b[0;32mif\u001b[0m \u001b[0martist\u001b[0m\u001b[0;34m.\u001b[0m\u001b[0mget_agg_filter\u001b[0m\u001b[0;34m(\u001b[0m\u001b[0;34m)\u001b[0m \u001b[0;32mis\u001b[0m \u001b[0;32mnot\u001b[0m \u001b[0;32mNone\u001b[0m\u001b[0;34m:\u001b[0m\u001b[0;34m\u001b[0m\u001b[0;34m\u001b[0m\u001b[0m\n",
      "\u001b[0;32m~/opt/anaconda3/lib/python3.7/site-packages/matplotlib/axes/_base.py\u001b[0m in \u001b[0;36mdraw\u001b[0;34m(self, renderer, inframe)\u001b[0m\n\u001b[1;32m   2628\u001b[0m             \u001b[0mrenderer\u001b[0m\u001b[0;34m.\u001b[0m\u001b[0mstop_rasterizing\u001b[0m\u001b[0;34m(\u001b[0m\u001b[0;34m)\u001b[0m\u001b[0;34m\u001b[0m\u001b[0;34m\u001b[0m\u001b[0m\n\u001b[1;32m   2629\u001b[0m \u001b[0;34m\u001b[0m\u001b[0m\n\u001b[0;32m-> 2630\u001b[0;31m         \u001b[0mmimage\u001b[0m\u001b[0;34m.\u001b[0m\u001b[0m_draw_list_compositing_images\u001b[0m\u001b[0;34m(\u001b[0m\u001b[0mrenderer\u001b[0m\u001b[0;34m,\u001b[0m \u001b[0mself\u001b[0m\u001b[0;34m,\u001b[0m \u001b[0martists\u001b[0m\u001b[0;34m)\u001b[0m\u001b[0;34m\u001b[0m\u001b[0;34m\u001b[0m\u001b[0m\n\u001b[0m\u001b[1;32m   2631\u001b[0m \u001b[0;34m\u001b[0m\u001b[0m\n\u001b[1;32m   2632\u001b[0m         \u001b[0mrenderer\u001b[0m\u001b[0;34m.\u001b[0m\u001b[0mclose_group\u001b[0m\u001b[0;34m(\u001b[0m\u001b[0;34m'axes'\u001b[0m\u001b[0;34m)\u001b[0m\u001b[0;34m\u001b[0m\u001b[0;34m\u001b[0m\u001b[0m\n",
      "\u001b[0;32m~/opt/anaconda3/lib/python3.7/site-packages/matplotlib/image.py\u001b[0m in \u001b[0;36m_draw_list_compositing_images\u001b[0;34m(renderer, parent, artists, suppress_composite)\u001b[0m\n\u001b[1;32m    135\u001b[0m     \u001b[0;32mif\u001b[0m \u001b[0mnot_composite\u001b[0m \u001b[0;32mor\u001b[0m \u001b[0;32mnot\u001b[0m \u001b[0mhas_images\u001b[0m\u001b[0;34m:\u001b[0m\u001b[0;34m\u001b[0m\u001b[0;34m\u001b[0m\u001b[0m\n\u001b[1;32m    136\u001b[0m         \u001b[0;32mfor\u001b[0m \u001b[0ma\u001b[0m \u001b[0;32min\u001b[0m \u001b[0martists\u001b[0m\u001b[0;34m:\u001b[0m\u001b[0;34m\u001b[0m\u001b[0;34m\u001b[0m\u001b[0m\n\u001b[0;32m--> 137\u001b[0;31m             \u001b[0ma\u001b[0m\u001b[0;34m.\u001b[0m\u001b[0mdraw\u001b[0m\u001b[0;34m(\u001b[0m\u001b[0mrenderer\u001b[0m\u001b[0;34m)\u001b[0m\u001b[0;34m\u001b[0m\u001b[0;34m\u001b[0m\u001b[0m\n\u001b[0m\u001b[1;32m    138\u001b[0m     \u001b[0;32melse\u001b[0m\u001b[0;34m:\u001b[0m\u001b[0;34m\u001b[0m\u001b[0;34m\u001b[0m\u001b[0m\n\u001b[1;32m    139\u001b[0m         \u001b[0;31m# Composite any adjacent images together\u001b[0m\u001b[0;34m\u001b[0m\u001b[0;34m\u001b[0m\u001b[0;34m\u001b[0m\u001b[0m\n",
      "\u001b[0;32m~/opt/anaconda3/lib/python3.7/site-packages/matplotlib/artist.py\u001b[0m in \u001b[0;36mdraw_wrapper\u001b[0;34m(artist, renderer, *args, **kwargs)\u001b[0m\n\u001b[1;32m     36\u001b[0m                 \u001b[0mrenderer\u001b[0m\u001b[0;34m.\u001b[0m\u001b[0mstart_filter\u001b[0m\u001b[0;34m(\u001b[0m\u001b[0;34m)\u001b[0m\u001b[0;34m\u001b[0m\u001b[0;34m\u001b[0m\u001b[0m\n\u001b[1;32m     37\u001b[0m \u001b[0;34m\u001b[0m\u001b[0m\n\u001b[0;32m---> 38\u001b[0;31m             \u001b[0;32mreturn\u001b[0m \u001b[0mdraw\u001b[0m\u001b[0;34m(\u001b[0m\u001b[0martist\u001b[0m\u001b[0;34m,\u001b[0m \u001b[0mrenderer\u001b[0m\u001b[0;34m,\u001b[0m \u001b[0;34m*\u001b[0m\u001b[0margs\u001b[0m\u001b[0;34m,\u001b[0m \u001b[0;34m**\u001b[0m\u001b[0mkwargs\u001b[0m\u001b[0;34m)\u001b[0m\u001b[0;34m\u001b[0m\u001b[0;34m\u001b[0m\u001b[0m\n\u001b[0m\u001b[1;32m     39\u001b[0m         \u001b[0;32mfinally\u001b[0m\u001b[0;34m:\u001b[0m\u001b[0;34m\u001b[0m\u001b[0;34m\u001b[0m\u001b[0m\n\u001b[1;32m     40\u001b[0m             \u001b[0;32mif\u001b[0m \u001b[0martist\u001b[0m\u001b[0;34m.\u001b[0m\u001b[0mget_agg_filter\u001b[0m\u001b[0;34m(\u001b[0m\u001b[0;34m)\u001b[0m \u001b[0;32mis\u001b[0m \u001b[0;32mnot\u001b[0m \u001b[0;32mNone\u001b[0m\u001b[0;34m:\u001b[0m\u001b[0;34m\u001b[0m\u001b[0;34m\u001b[0m\u001b[0m\n",
      "\u001b[0;32m~/opt/anaconda3/lib/python3.7/site-packages/matplotlib/axis.py\u001b[0m in \u001b[0;36mdraw\u001b[0;34m(self, renderer, *args, **kwargs)\u001b[0m\n\u001b[1;32m   1230\u001b[0m \u001b[0;34m\u001b[0m\u001b[0m\n\u001b[1;32m   1231\u001b[0m         \u001b[0;32mfor\u001b[0m \u001b[0mtick\u001b[0m \u001b[0;32min\u001b[0m \u001b[0mticks_to_draw\u001b[0m\u001b[0;34m:\u001b[0m\u001b[0;34m\u001b[0m\u001b[0;34m\u001b[0m\u001b[0m\n\u001b[0;32m-> 1232\u001b[0;31m             \u001b[0mtick\u001b[0m\u001b[0;34m.\u001b[0m\u001b[0mdraw\u001b[0m\u001b[0;34m(\u001b[0m\u001b[0mrenderer\u001b[0m\u001b[0;34m)\u001b[0m\u001b[0;34m\u001b[0m\u001b[0;34m\u001b[0m\u001b[0m\n\u001b[0m\u001b[1;32m   1233\u001b[0m \u001b[0;34m\u001b[0m\u001b[0m\n\u001b[1;32m   1234\u001b[0m         \u001b[0;31m# scale up the axis label box to also find the neighbors, not\u001b[0m\u001b[0;34m\u001b[0m\u001b[0;34m\u001b[0m\u001b[0;34m\u001b[0m\u001b[0m\n",
      "\u001b[0;32m~/opt/anaconda3/lib/python3.7/site-packages/matplotlib/artist.py\u001b[0m in \u001b[0;36mdraw_wrapper\u001b[0;34m(artist, renderer, *args, **kwargs)\u001b[0m\n\u001b[1;32m     36\u001b[0m                 \u001b[0mrenderer\u001b[0m\u001b[0;34m.\u001b[0m\u001b[0mstart_filter\u001b[0m\u001b[0;34m(\u001b[0m\u001b[0;34m)\u001b[0m\u001b[0;34m\u001b[0m\u001b[0;34m\u001b[0m\u001b[0m\n\u001b[1;32m     37\u001b[0m \u001b[0;34m\u001b[0m\u001b[0m\n\u001b[0;32m---> 38\u001b[0;31m             \u001b[0;32mreturn\u001b[0m \u001b[0mdraw\u001b[0m\u001b[0;34m(\u001b[0m\u001b[0martist\u001b[0m\u001b[0;34m,\u001b[0m \u001b[0mrenderer\u001b[0m\u001b[0;34m,\u001b[0m \u001b[0;34m*\u001b[0m\u001b[0margs\u001b[0m\u001b[0;34m,\u001b[0m \u001b[0;34m**\u001b[0m\u001b[0mkwargs\u001b[0m\u001b[0;34m)\u001b[0m\u001b[0;34m\u001b[0m\u001b[0;34m\u001b[0m\u001b[0m\n\u001b[0m\u001b[1;32m     39\u001b[0m         \u001b[0;32mfinally\u001b[0m\u001b[0;34m:\u001b[0m\u001b[0;34m\u001b[0m\u001b[0;34m\u001b[0m\u001b[0m\n\u001b[1;32m     40\u001b[0m             \u001b[0;32mif\u001b[0m \u001b[0martist\u001b[0m\u001b[0;34m.\u001b[0m\u001b[0mget_agg_filter\u001b[0m\u001b[0;34m(\u001b[0m\u001b[0;34m)\u001b[0m \u001b[0;32mis\u001b[0m \u001b[0;32mnot\u001b[0m \u001b[0;32mNone\u001b[0m\u001b[0;34m:\u001b[0m\u001b[0;34m\u001b[0m\u001b[0;34m\u001b[0m\u001b[0m\n",
      "\u001b[0;32m~/opt/anaconda3/lib/python3.7/site-packages/matplotlib/axis.py\u001b[0m in \u001b[0;36mdraw\u001b[0;34m(self, renderer)\u001b[0m\n\u001b[1;32m    295\u001b[0m         for artist in [self.gridline, self.tick1line, self.tick2line,\n\u001b[1;32m    296\u001b[0m                        self.label1, self.label2]:\n\u001b[0;32m--> 297\u001b[0;31m             \u001b[0martist\u001b[0m\u001b[0;34m.\u001b[0m\u001b[0mdraw\u001b[0m\u001b[0;34m(\u001b[0m\u001b[0mrenderer\u001b[0m\u001b[0;34m)\u001b[0m\u001b[0;34m\u001b[0m\u001b[0;34m\u001b[0m\u001b[0m\n\u001b[0m\u001b[1;32m    298\u001b[0m         \u001b[0mrenderer\u001b[0m\u001b[0;34m.\u001b[0m\u001b[0mclose_group\u001b[0m\u001b[0;34m(\u001b[0m\u001b[0mself\u001b[0m\u001b[0;34m.\u001b[0m\u001b[0m__name__\u001b[0m\u001b[0;34m)\u001b[0m\u001b[0;34m\u001b[0m\u001b[0;34m\u001b[0m\u001b[0m\n\u001b[1;32m    299\u001b[0m         \u001b[0mself\u001b[0m\u001b[0;34m.\u001b[0m\u001b[0mstale\u001b[0m \u001b[0;34m=\u001b[0m \u001b[0;32mFalse\u001b[0m\u001b[0;34m\u001b[0m\u001b[0;34m\u001b[0m\u001b[0m\n",
      "\u001b[0;32m~/opt/anaconda3/lib/python3.7/site-packages/matplotlib/artist.py\u001b[0m in \u001b[0;36mdraw_wrapper\u001b[0;34m(artist, renderer, *args, **kwargs)\u001b[0m\n\u001b[1;32m     36\u001b[0m                 \u001b[0mrenderer\u001b[0m\u001b[0;34m.\u001b[0m\u001b[0mstart_filter\u001b[0m\u001b[0;34m(\u001b[0m\u001b[0;34m)\u001b[0m\u001b[0;34m\u001b[0m\u001b[0;34m\u001b[0m\u001b[0m\n\u001b[1;32m     37\u001b[0m \u001b[0;34m\u001b[0m\u001b[0m\n\u001b[0;32m---> 38\u001b[0;31m             \u001b[0;32mreturn\u001b[0m \u001b[0mdraw\u001b[0m\u001b[0;34m(\u001b[0m\u001b[0martist\u001b[0m\u001b[0;34m,\u001b[0m \u001b[0mrenderer\u001b[0m\u001b[0;34m,\u001b[0m \u001b[0;34m*\u001b[0m\u001b[0margs\u001b[0m\u001b[0;34m,\u001b[0m \u001b[0;34m**\u001b[0m\u001b[0mkwargs\u001b[0m\u001b[0;34m)\u001b[0m\u001b[0;34m\u001b[0m\u001b[0;34m\u001b[0m\u001b[0m\n\u001b[0m\u001b[1;32m     39\u001b[0m         \u001b[0;32mfinally\u001b[0m\u001b[0;34m:\u001b[0m\u001b[0;34m\u001b[0m\u001b[0;34m\u001b[0m\u001b[0m\n\u001b[1;32m     40\u001b[0m             \u001b[0;32mif\u001b[0m \u001b[0martist\u001b[0m\u001b[0;34m.\u001b[0m\u001b[0mget_agg_filter\u001b[0m\u001b[0;34m(\u001b[0m\u001b[0;34m)\u001b[0m \u001b[0;32mis\u001b[0m \u001b[0;32mnot\u001b[0m \u001b[0;32mNone\u001b[0m\u001b[0;34m:\u001b[0m\u001b[0;34m\u001b[0m\u001b[0;34m\u001b[0m\u001b[0m\n",
      "\u001b[0;32m~/opt/anaconda3/lib/python3.7/site-packages/matplotlib/lines.py\u001b[0m in \u001b[0;36mdraw\u001b[0;34m(self, renderer)\u001b[0m\n\u001b[1;32m    838\u001b[0m                                     .get_transformed_points_and_affine())\n\u001b[1;32m    839\u001b[0m             \u001b[0;32melse\u001b[0m\u001b[0;34m:\u001b[0m\u001b[0;34m\u001b[0m\u001b[0;34m\u001b[0m\u001b[0m\n\u001b[0;32m--> 840\u001b[0;31m                 tpath, affine = (self._get_transformed_path()\n\u001b[0m\u001b[1;32m    841\u001b[0m                                  .get_transformed_points_and_affine())\n\u001b[1;32m    842\u001b[0m \u001b[0;34m\u001b[0m\u001b[0m\n",
      "\u001b[0;32m~/opt/anaconda3/lib/python3.7/site-packages/matplotlib/transforms.py\u001b[0m in \u001b[0;36mget_transformed_points_and_affine\u001b[0;34m(self)\u001b[0m\n\u001b[1;32m   2715\u001b[0m         \u001b[0mbe\u001b[0m \u001b[0mperformed\u001b[0m\u001b[0;34m.\u001b[0m\u001b[0;34m\u001b[0m\u001b[0;34m\u001b[0m\u001b[0m\n\u001b[1;32m   2716\u001b[0m         \"\"\"\n\u001b[0;32m-> 2717\u001b[0;31m         \u001b[0mself\u001b[0m\u001b[0;34m.\u001b[0m\u001b[0m_revalidate\u001b[0m\u001b[0;34m(\u001b[0m\u001b[0;34m)\u001b[0m\u001b[0;34m\u001b[0m\u001b[0;34m\u001b[0m\u001b[0m\n\u001b[0m\u001b[1;32m   2718\u001b[0m         \u001b[0;32mreturn\u001b[0m \u001b[0mself\u001b[0m\u001b[0;34m.\u001b[0m\u001b[0m_transformed_points\u001b[0m\u001b[0;34m,\u001b[0m \u001b[0mself\u001b[0m\u001b[0;34m.\u001b[0m\u001b[0mget_affine\u001b[0m\u001b[0;34m(\u001b[0m\u001b[0;34m)\u001b[0m\u001b[0;34m\u001b[0m\u001b[0;34m\u001b[0m\u001b[0m\n\u001b[1;32m   2719\u001b[0m \u001b[0;34m\u001b[0m\u001b[0m\n",
      "\u001b[0;32m~/opt/anaconda3/lib/python3.7/site-packages/matplotlib/transforms.py\u001b[0m in \u001b[0;36m_revalidate\u001b[0;34m(self)\u001b[0m\n\u001b[1;32m   2703\u001b[0m             \u001b[0mself\u001b[0m\u001b[0;34m.\u001b[0m\u001b[0m_transformed_points\u001b[0m \u001b[0;34m=\u001b[0m\u001b[0;31m \u001b[0m\u001b[0;31m\\\u001b[0m\u001b[0;34m\u001b[0m\u001b[0;34m\u001b[0m\u001b[0m\n\u001b[1;32m   2704\u001b[0m                 Path._fast_from_codes_and_verts(\n\u001b[0;32m-> 2705\u001b[0;31m                     \u001b[0mself\u001b[0m\u001b[0;34m.\u001b[0m\u001b[0m_transform\u001b[0m\u001b[0;34m.\u001b[0m\u001b[0mtransform_non_affine\u001b[0m\u001b[0;34m(\u001b[0m\u001b[0mself\u001b[0m\u001b[0;34m.\u001b[0m\u001b[0m_path\u001b[0m\u001b[0;34m.\u001b[0m\u001b[0mvertices\u001b[0m\u001b[0;34m)\u001b[0m\u001b[0;34m,\u001b[0m\u001b[0;34m\u001b[0m\u001b[0;34m\u001b[0m\u001b[0m\n\u001b[0m\u001b[1;32m   2706\u001b[0m                     None, self._path)\n\u001b[1;32m   2707\u001b[0m         \u001b[0mself\u001b[0m\u001b[0;34m.\u001b[0m\u001b[0m_invalid\u001b[0m \u001b[0;34m=\u001b[0m \u001b[0;36m0\u001b[0m\u001b[0;34m\u001b[0m\u001b[0;34m\u001b[0m\u001b[0m\n",
      "\u001b[0;32m~/opt/anaconda3/lib/python3.7/site-packages/matplotlib/transforms.py\u001b[0m in \u001b[0;36mtransform_non_affine\u001b[0;34m(self, points)\u001b[0m\n\u001b[1;32m   2162\u001b[0m     \u001b[0;32mdef\u001b[0m \u001b[0mtransform_non_affine\u001b[0m\u001b[0;34m(\u001b[0m\u001b[0mself\u001b[0m\u001b[0;34m,\u001b[0m \u001b[0mpoints\u001b[0m\u001b[0;34m)\u001b[0m\u001b[0;34m:\u001b[0m\u001b[0;34m\u001b[0m\u001b[0;34m\u001b[0m\u001b[0m\n\u001b[1;32m   2163\u001b[0m         \u001b[0;31m# docstring inherited\u001b[0m\u001b[0;34m\u001b[0m\u001b[0;34m\u001b[0m\u001b[0;34m\u001b[0m\u001b[0m\n\u001b[0;32m-> 2164\u001b[0;31m         \u001b[0;32mif\u001b[0m \u001b[0mself\u001b[0m\u001b[0;34m.\u001b[0m\u001b[0m_x\u001b[0m\u001b[0;34m.\u001b[0m\u001b[0mis_affine\u001b[0m \u001b[0;32mand\u001b[0m \u001b[0mself\u001b[0m\u001b[0;34m.\u001b[0m\u001b[0m_y\u001b[0m\u001b[0;34m.\u001b[0m\u001b[0mis_affine\u001b[0m\u001b[0;34m:\u001b[0m\u001b[0;34m\u001b[0m\u001b[0;34m\u001b[0m\u001b[0m\n\u001b[0m\u001b[1;32m   2165\u001b[0m             \u001b[0;32mreturn\u001b[0m \u001b[0mpoints\u001b[0m\u001b[0;34m\u001b[0m\u001b[0;34m\u001b[0m\u001b[0m\n\u001b[1;32m   2166\u001b[0m         \u001b[0mx\u001b[0m \u001b[0;34m=\u001b[0m \u001b[0mself\u001b[0m\u001b[0;34m.\u001b[0m\u001b[0m_x\u001b[0m\u001b[0;34m\u001b[0m\u001b[0;34m\u001b[0m\u001b[0m\n",
      "\u001b[0;31mKeyboardInterrupt\u001b[0m: "
     ]
    }
   ],
   "source": [
    "df.plot(\"End Type\", 'Genome Length(bp)', kind='bar')"
   ]
  },
  {
   "cell_type": "code",
   "execution_count": 4,
   "metadata": {},
   "outputs": [],
   "source": [
    "df_endType = pd.read_csv(\"FINGenomeVEndType.csv\")\n",
    "df_endType.sort_values(\"Genome Length\", inplace=True)"
   ]
  },
  {
   "cell_type": "code",
   "execution_count": 5,
   "metadata": {},
   "outputs": [
    {
     "data": {
      "text/html": [
       "<div>\n",
       "<style scoped>\n",
       "    .dataframe tbody tr th:only-of-type {\n",
       "        vertical-align: middle;\n",
       "    }\n",
       "\n",
       "    .dataframe tbody tr th {\n",
       "        vertical-align: top;\n",
       "    }\n",
       "\n",
       "    .dataframe thead th {\n",
       "        text-align: right;\n",
       "    }\n",
       "</style>\n",
       "<table border=\"1\" class=\"dataframe\">\n",
       "  <thead>\n",
       "    <tr style=\"text-align: right;\">\n",
       "      <th></th>\n",
       "      <th>End Type</th>\n",
       "      <th>Genome Length</th>\n",
       "    </tr>\n",
       "  </thead>\n",
       "  <tbody>\n",
       "    <tr>\n",
       "      <th>0</th>\n",
       "      <td>3' Sticky Overhang</td>\n",
       "      <td>53281.46569</td>\n",
       "    </tr>\n",
       "    <tr>\n",
       "      <th>3</th>\n",
       "      <td>Covalent Terminal Protein</td>\n",
       "      <td>74675.00000</td>\n",
       "    </tr>\n",
       "    <tr>\n",
       "      <th>1</th>\n",
       "      <td>Circularly Permuted</td>\n",
       "      <td>76963.71769</td>\n",
       "    </tr>\n",
       "    <tr>\n",
       "      <th>2</th>\n",
       "      <td>Direct Terminal Repeat</td>\n",
       "      <td>90569.89222</td>\n",
       "    </tr>\n",
       "  </tbody>\n",
       "</table>\n",
       "</div>"
      ],
      "text/plain": [
       "                    End Type  Genome Length\n",
       "0         3' Sticky Overhang    53281.46569\n",
       "3  Covalent Terminal Protein    74675.00000\n",
       "1        Circularly Permuted    76963.71769\n",
       "2     Direct Terminal Repeat    90569.89222"
      ]
     },
     "execution_count": 5,
     "metadata": {},
     "output_type": "execute_result"
    }
   ],
   "source": [
    "df_endType"
   ]
  },
  {
   "cell_type": "code",
   "execution_count": 7,
   "metadata": {},
   "outputs": [
    {
     "data": {
      "image/png": "[encoded data removed]",
      "text/plain": [
       "<Figure size 432x288 with 1 Axes>"
      ]
     },
     "metadata": {
      "needs_background": "light"
     },
     "output_type": "display_data"
    }
   ],
   "source": [
    "plot = df_endType.plot('End Type', 'Genome Length', kind='bar')\n",
    "fig = plot.get_figure()\n",
    "plt.ylabel(\"Genome Length (Base Pairs)\")\n",
    "fig.tight_layout()\n",
    "fig.savefig(\"FIN EndType vs Genomelength.png\")"
   ]
  },
  {
   "cell_type": "code",
   "execution_count": 51,
   "metadata": {},
   "outputs": [
    {
     "ename": "AttributeError",
     "evalue": "'AxesSubplot' object has no attribute 'savefig'",
     "output_type": "error",
     "traceback": [
      "\u001b[0;31m---------------------------------------------------------------------------\u001b[0m",
      "\u001b[0;31mAttributeError\u001b[0m                            Traceback (most recent call last)",
      "\u001b[0;32m<ipython-input-51-71ddb9681840>\u001b[0m in \u001b[0;36m<module>\u001b[0;34m\u001b[0m\n\u001b[0;32m----> 1\u001b[0;31m \u001b[0mfig\u001b[0m\u001b[0;34m.\u001b[0m\u001b[0msavefig\u001b[0m\u001b[0;34m(\u001b[0m\u001b[0;34m'EndType.pdf'\u001b[0m\u001b[0;34m)\u001b[0m\u001b[0;34m\u001b[0m\u001b[0;34m\u001b[0m\u001b[0m\n\u001b[0m",
      "\u001b[0;31mAttributeError\u001b[0m: 'AxesSubplot' object has no attribute 'savefig'"
     ]
    }
   ],
   "source": [
    "fig.savefig('EndType.pdf')"
   ]
  },
  {
   "cell_type": "code",
   "execution_count": 12,
   "metadata": {},
   "outputs": [
    {
     "data": {
      "text/plain": [
       "Population Density     5093.192015\n",
       "Year Found             2013.986228\n",
       "pH                        7.762204\n",
       "GHI                     181.801581\n",
       "Dew Point                 7.245241\n",
       "Albedo                    0.203761\n",
       "Latitude                 38.726046\n",
       "Longitude               -87.398804\n",
       "AQI                      35.615274\n",
       "PM25                      8.729539\n",
       "PM10                     38.945965\n",
       "CO_8H                     3.096470\n",
       "NO2_1H                   37.360951\n",
       "SO3_1H                   24.644092\n",
       "GC%                      64.066526\n",
       "Genome Length(bp)     55752.168421\n",
       "dtype: float64"
      ]
     },
     "execution_count": 12,
     "metadata": {},
     "output_type": "execute_result"
    }
   ],
   "source": [
    "df[df['Temperate?']=='TRUE'].mean()"
   ]
  },
  {
   "cell_type": "code",
   "execution_count": 13,
   "metadata": {},
   "outputs": [
    {
     "data": {
      "text/plain": [
       "Population Density     6078.415135\n",
       "Year Found             2015.263291\n",
       "pH                        7.763567\n",
       "GHI                     180.969522\n",
       "Dew Point                 7.019454\n",
       "Albedo                    0.203609\n",
       "Latitude                 38.908644\n",
       "Longitude               -85.969372\n",
       "AQI                      37.282859\n",
       "PM25                      9.193082\n",
       "PM10                     41.033051\n",
       "CO_8H                     3.249808\n",
       "NO2_1H                   38.930054\n",
       "SO3_1H                   25.751729\n",
       "GC%                      62.540091\n",
       "Genome Length(bp)     69443.394856\n",
       "dtype: float64"
      ]
     },
     "execution_count": 13,
     "metadata": {},
     "output_type": "execute_result"
    }
   ],
   "source": [
    "df[df['Temperate?']=='FALSE'].mean()"
   ]
  },
  {
   "cell_type": "code",
   "execution_count": 71,
   "metadata": {},
   "outputs": [],
   "source": [
    "df_temperate = pd.read_csv(\"temperatethingy22.csv\")\n",
    "df_temperate.sort_values(\"Genome Length\", inplace=True)"
   ]
  },
  {
   "cell_type": "code",
   "execution_count": 72,
   "metadata": {},
   "outputs": [
    {
     "data": {
      "text/html": [
       "<div>\n",
       "<style scoped>\n",
       "    .dataframe tbody tr th:only-of-type {\n",
       "        vertical-align: middle;\n",
       "    }\n",
       "\n",
       "    .dataframe tbody tr th {\n",
       "        vertical-align: top;\n",
       "    }\n",
       "\n",
       "    .dataframe thead th {\n",
       "        text-align: right;\n",
       "    }\n",
       "</style>\n",
       "<table border=\"1\" class=\"dataframe\">\n",
       "  <thead>\n",
       "    <tr style=\"text-align: right;\">\n",
       "      <th></th>\n",
       "      <th>Temperateness</th>\n",
       "      <th>Genome Length</th>\n",
       "    </tr>\n",
       "  </thead>\n",
       "  <tbody>\n",
       "    <tr>\n",
       "      <th>0</th>\n",
       "      <td>Temperate</td>\n",
       "      <td>55752.16842</td>\n",
       "    </tr>\n",
       "    <tr>\n",
       "      <th>1</th>\n",
       "      <td>Not Temperate</td>\n",
       "      <td>69443.39486</td>\n",
       "    </tr>\n",
       "  </tbody>\n",
       "</table>\n",
       "</div>"
      ],
      "text/plain": [
       "   Temperateness  Genome Length\n",
       "0      Temperate    55752.16842\n",
       "1  Not Temperate    69443.39486"
      ]
     },
     "execution_count": 72,
     "metadata": {},
     "output_type": "execute_result"
    }
   ],
   "source": [
    "df_temperate.dropna()"
   ]
  },
  {
   "cell_type": "code",
   "execution_count": 61,
   "metadata": {},
   "outputs": [
    {
     "ename": "NameError",
     "evalue": "name 'df_temperate' is not defined",
     "output_type": "error",
     "traceback": [
      "\u001b[0;31m---------------------------------------------------------------------------\u001b[0m",
      "\u001b[0;31mNameError\u001b[0m                                 Traceback (most recent call last)",
      "\u001b[0;32m<ipython-input-61-cc4e64c2e031>\u001b[0m in \u001b[0;36m<module>\u001b[0;34m\u001b[0m\n\u001b[0;32m----> 1\u001b[0;31m \u001b[0mplot2\u001b[0m \u001b[0;34m=\u001b[0m \u001b[0mdf_temperate\u001b[0m\u001b[0;34m.\u001b[0m\u001b[0mplot\u001b[0m\u001b[0;34m(\u001b[0m\u001b[0;34m'Temperateness'\u001b[0m\u001b[0;34m,\u001b[0m \u001b[0;34m'Genome Length'\u001b[0m\u001b[0;34m,\u001b[0m \u001b[0mkind\u001b[0m\u001b[0;34m=\u001b[0m\u001b[0;34m'bar'\u001b[0m\u001b[0;34m)\u001b[0m\u001b[0;34m\u001b[0m\u001b[0;34m\u001b[0m\u001b[0m\n\u001b[0m\u001b[1;32m      2\u001b[0m \u001b[0mfig\u001b[0m \u001b[0;34m=\u001b[0m \u001b[0mplot2\u001b[0m\u001b[0;34m.\u001b[0m\u001b[0mget_figure\u001b[0m\u001b[0;34m(\u001b[0m\u001b[0;34m)\u001b[0m\u001b[0;34m\u001b[0m\u001b[0;34m\u001b[0m\u001b[0m\n\u001b[1;32m      3\u001b[0m \u001b[0mfig\u001b[0m\u001b[0;34m.\u001b[0m\u001b[0myticks\u001b[0m\u001b[0;34m(\u001b[0m\u001b[0;34m)\u001b[0m\u001b[0;34m\u001b[0m\u001b[0;34m\u001b[0m\u001b[0m\n\u001b[1;32m      4\u001b[0m \u001b[0mfig\u001b[0m\u001b[0;34m.\u001b[0m\u001b[0msavefig\u001b[0m\u001b[0;34m(\u001b[0m\u001b[0;34m\"Temperateness.png\"\u001b[0m\u001b[0;34m)\u001b[0m\u001b[0;34m\u001b[0m\u001b[0;34m\u001b[0m\u001b[0m\n",
      "\u001b[0;31mNameError\u001b[0m: name 'df_temperate' is not defined"
     ]
    }
   ],
   "source": [
    "plot2 = df_temperate.plot('Temperateness', 'Genome Length', kind='bar')\n",
    "fig = plot2.get_figure()\n",
    "fig.yticks()\n",
    "fig.savefig(\"Temperateness.png\")"
   ]
  },
  {
   "cell_type": "code",
   "execution_count": 10,
   "metadata": {},
   "outputs": [
    {
     "data": {
      "text/plain": [
       "Ttest_indResult(statistic=-3.164659629862225, pvalue=0.0015700050962334)"
      ]
     },
     "execution_count": 10,
     "metadata": {},
     "output_type": "execute_result"
    }
   ],
   "source": [
    "factor = 'AQI'\n",
    "\n",
    "temperate = df[df['Temperate?']=='TRUE'].dropna(subset=[factor])\n",
    "not_temperate = df[df['Temperate?']=='FALSE'].dropna(subset=[factor])\n",
    "\n",
    "#ttest\n",
    "stats.ttest_ind(temperate[factor], not_temperate[factor])"
   ]
  },
  {
   "cell_type": "code",
   "execution_count": 11,
   "metadata": {},
   "outputs": [
    {
     "data": {
      "text/plain": [
       "Ttest_indResult(statistic=-2.3733420671421945, pvalue=0.017723126383408148)"
      ]
     },
     "execution_count": 11,
     "metadata": {},
     "output_type": "execute_result"
    }
   ],
   "source": [
    "factor = 'Population Density'\n",
    "\n",
    "temperate = df[df['Temperate?']=='TRUE'].dropna(subset=[factor])\n",
    "not_temperate = df[df['Temperate?']=='FALSE'].dropna(subset=[factor])\n",
    "\n",
    "#ttest\n",
    "stats.ttest_ind(temperate[factor], not_temperate[factor])"
   ]
  },
  {
   "cell_type": "code",
   "execution_count": 33,
   "metadata": {},
   "outputs": [],
   "source": [
    "df_tempvsAQI = pd.read_csv(\"TempvsAQI.csv\")\n",
    "df_tempvsPop = pd.read_csv(\"TempvsPopdensity.csv\")\n",
    "df_tempvsAQI.sort_values(\"AQI\", inplace=True)\n",
    "df_tempvsPop.sort_values(\"Population Density\", inplace=True)"
   ]
  },
  {
   "cell_type": "code",
   "execution_count": 34,
   "metadata": {},
   "outputs": [
    {
     "data": {
      "image/png": "[encoded data removed]",
      "text/plain": [
       "<Figure size 432x288 with 1 Axes>"
      ]
     },
     "metadata": {
      "needs_background": "light"
     },
     "output_type": "display_data"
    }
   ],
   "source": [
    "plot_tA = df_tempvsAQI.plot('Temperateness','AQI', kind = 'bar')\n",
    "fig_tA = plot_tA.get_figure()\n",
    "fig_tA.tight_layout()"
   ]
  },
  {
   "cell_type": "code",
   "execution_count": 37,
   "metadata": {},
   "outputs": [
    {
     "data": {
      "text/html": [
       "<div>\n",
       "<style scoped>\n",
       "    .dataframe tbody tr th:only-of-type {\n",
       "        vertical-align: middle;\n",
       "    }\n",
       "\n",
       "    .dataframe tbody tr th {\n",
       "        vertical-align: top;\n",
       "    }\n",
       "\n",
       "    .dataframe thead th {\n",
       "        text-align: right;\n",
       "    }\n",
       "</style>\n",
       "<table border=\"1\" class=\"dataframe\">\n",
       "  <thead>\n",
       "    <tr style=\"text-align: right;\">\n",
       "      <th></th>\n",
       "      <th>Temperateness</th>\n",
       "      <th>Population Density</th>\n",
       "    </tr>\n",
       "  </thead>\n",
       "  <tbody>\n",
       "    <tr>\n",
       "      <th>0</th>\n",
       "      <td>Temperate</td>\n",
       "      <td>5093.192015</td>\n",
       "    </tr>\n",
       "    <tr>\n",
       "      <th>1</th>\n",
       "      <td>Not Temerate</td>\n",
       "      <td>6078.415135</td>\n",
       "    </tr>\n",
       "  </tbody>\n",
       "</table>\n",
       "</div>"
      ],
      "text/plain": [
       "  Temperateness  Population Density\n",
       "0     Temperate         5093.192015\n",
       "1  Not Temerate         6078.415135"
      ]
     },
     "execution_count": 37,
     "metadata": {},
     "output_type": "execute_result"
    }
   ],
   "source": [
    "df_tempvsPop"
   ]
  },
  {
   "cell_type": "code",
   "execution_count": 38,
   "metadata": {},
   "outputs": [
    {
     "data": {
      "text/html": [
       "<div>\n",
       "<style scoped>\n",
       "    .dataframe tbody tr th:only-of-type {\n",
       "        vertical-align: middle;\n",
       "    }\n",
       "\n",
       "    .dataframe tbody tr th {\n",
       "        vertical-align: top;\n",
       "    }\n",
       "\n",
       "    .dataframe thead th {\n",
       "        text-align: right;\n",
       "    }\n",
       "</style>\n",
       "<table border=\"1\" class=\"dataframe\">\n",
       "  <thead>\n",
       "    <tr style=\"text-align: right;\">\n",
       "      <th></th>\n",
       "      <th>Temperateness</th>\n",
       "      <th>AQI</th>\n",
       "    </tr>\n",
       "  </thead>\n",
       "  <tbody>\n",
       "    <tr>\n",
       "      <th>0</th>\n",
       "      <td>Temperate</td>\n",
       "      <td>35.615274</td>\n",
       "    </tr>\n",
       "    <tr>\n",
       "      <th>1</th>\n",
       "      <td>Virulent</td>\n",
       "      <td>37.282859</td>\n",
       "    </tr>\n",
       "  </tbody>\n",
       "</table>\n",
       "</div>"
      ],
      "text/plain": [
       "  Temperateness        AQI\n",
       "0     Temperate  35.615274\n",
       "1      Virulent  37.282859"
      ]
     },
     "execution_count": 38,
     "metadata": {},
     "output_type": "execute_result"
    }
   ],
   "source": [
    "df_tempvsAQI"
   ]
  },
  {
   "cell_type": "code",
   "execution_count": 3,
   "metadata": {},
   "outputs": [
    {
     "data": {
      "text/html": [
       "<div>\n",
       "<style scoped>\n",
       "    .dataframe tbody tr th:only-of-type {\n",
       "        vertical-align: middle;\n",
       "    }\n",
       "\n",
       "    .dataframe tbody tr th {\n",
       "        vertical-align: top;\n",
       "    }\n",
       "\n",
       "    .dataframe thead th {\n",
       "        text-align: right;\n",
       "    }\n",
       "</style>\n",
       "<table border=\"1\" class=\"dataframe\">\n",
       "  <thead>\n",
       "    <tr style=\"text-align: right;\">\n",
       "      <th></th>\n",
       "      <th>Phage Name</th>\n",
       "      <th>Zipcode</th>\n",
       "      <th>Population Density</th>\n",
       "      <th>County</th>\n",
       "      <th>Year Found</th>\n",
       "      <th>pH</th>\n",
       "      <th>Waterquality</th>\n",
       "      <th>GHI</th>\n",
       "      <th>Dew Point</th>\n",
       "      <th>Albedo</th>\n",
       "      <th>...</th>\n",
       "      <th>PM25</th>\n",
       "      <th>PM10</th>\n",
       "      <th>CO_8H</th>\n",
       "      <th>NO2_1H</th>\n",
       "      <th>SO3_1H</th>\n",
       "      <th>GC%</th>\n",
       "      <th>Temperate?</th>\n",
       "      <th>Genome Length(bp)</th>\n",
       "      <th>Accession #</th>\n",
       "      <th>End Type</th>\n",
       "    </tr>\n",
       "  </thead>\n",
       "  <tbody>\n",
       "    <tr>\n",
       "      <th>0</th>\n",
       "      <td>244</td>\n",
       "      <td>15260</td>\n",
       "      <td>NaN</td>\n",
       "      <td>Allegheny County</td>\n",
       "      <td>2004.0</td>\n",
       "      <td>7.450491</td>\n",
       "      <td>Stable, normal stage</td>\n",
       "      <td>165.319749</td>\n",
       "      <td>6.244064</td>\n",
       "      <td>0.210630</td>\n",
       "      <td>...</td>\n",
       "      <td>8.4</td>\n",
       "      <td>37.0</td>\n",
       "      <td>3.0</td>\n",
       "      <td>37.0</td>\n",
       "      <td>24.0</td>\n",
       "      <td>63.4</td>\n",
       "      <td>TRUE</td>\n",
       "      <td>74483</td>\n",
       "      <td>DQ398041</td>\n",
       "      <td>3' Sticky Overhang</td>\n",
       "    </tr>\n",
       "    <tr>\n",
       "      <th>1</th>\n",
       "      <td>ABCat</td>\n",
       "      <td>6511</td>\n",
       "      <td>9041.0</td>\n",
       "      <td>New Haven County</td>\n",
       "      <td>2011.0</td>\n",
       "      <td>7.902840</td>\n",
       "      <td>Not applicable</td>\n",
       "      <td>171.776370</td>\n",
       "      <td>6.426256</td>\n",
       "      <td>0.195342</td>\n",
       "      <td>...</td>\n",
       "      <td>13.0</td>\n",
       "      <td>59.0</td>\n",
       "      <td>4.7</td>\n",
       "      <td>55.0</td>\n",
       "      <td>37.0</td>\n",
       "      <td>63.0</td>\n",
       "      <td>TRUE</td>\n",
       "      <td>76131</td>\n",
       "      <td>KF188414</td>\n",
       "      <td>3' Sticky Overhang</td>\n",
       "    </tr>\n",
       "    <tr>\n",
       "      <th>2</th>\n",
       "      <td>ABU</td>\n",
       "      <td>18107</td>\n",
       "      <td>NaN</td>\n",
       "      <td>Northampton County</td>\n",
       "      <td>2009.0</td>\n",
       "      <td>7.834701</td>\n",
       "      <td>Stable, normal stage</td>\n",
       "      <td>170.401370</td>\n",
       "      <td>6.246461</td>\n",
       "      <td>0.234274</td>\n",
       "      <td>...</td>\n",
       "      <td>10.0</td>\n",
       "      <td>45.0</td>\n",
       "      <td>3.6</td>\n",
       "      <td>44.0</td>\n",
       "      <td>29.0</td>\n",
       "      <td>66.5</td>\n",
       "      <td>FALSE</td>\n",
       "      <td>68850</td>\n",
       "      <td>JF704091</td>\n",
       "      <td>Circularly Permuted</td>\n",
       "    </tr>\n",
       "    <tr>\n",
       "      <th>3</th>\n",
       "      <td>ACFishhook</td>\n",
       "      <td>66502</td>\n",
       "      <td>191.0</td>\n",
       "      <td>Riley County</td>\n",
       "      <td>2015.0</td>\n",
       "      <td>7.833908</td>\n",
       "      <td>Stable, high stage</td>\n",
       "      <td>189.895320</td>\n",
       "      <td>6.363470</td>\n",
       "      <td>0.211507</td>\n",
       "      <td>...</td>\n",
       "      <td>5.7</td>\n",
       "      <td>25.0</td>\n",
       "      <td>2.1</td>\n",
       "      <td>25.0</td>\n",
       "      <td>16.0</td>\n",
       "      <td>64.0</td>\n",
       "      <td>TRUE</td>\n",
       "      <td>47343</td>\n",
       "      <td>MK284518</td>\n",
       "      <td>3' Sticky Overhang</td>\n",
       "    </tr>\n",
       "    <tr>\n",
       "      <th>4</th>\n",
       "      <td>AFIS</td>\n",
       "      <td>47907</td>\n",
       "      <td>NaN</td>\n",
       "      <td>Tippecanoe County</td>\n",
       "      <td>2014.0</td>\n",
       "      <td>7.755314</td>\n",
       "      <td>Not applicable</td>\n",
       "      <td>173.166324</td>\n",
       "      <td>6.472374</td>\n",
       "      <td>0.234082</td>\n",
       "      <td>...</td>\n",
       "      <td>2.8</td>\n",
       "      <td>12.0</td>\n",
       "      <td>1.0</td>\n",
       "      <td>12.0</td>\n",
       "      <td>8.0</td>\n",
       "      <td>63.7</td>\n",
       "      <td>TRUE</td>\n",
       "      <td>51737</td>\n",
       "      <td>MK359300</td>\n",
       "      <td>3' Sticky Overhang</td>\n",
       "    </tr>\n",
       "    <tr>\n",
       "      <th>...</th>\n",
       "      <td>...</td>\n",
       "      <td>...</td>\n",
       "      <td>...</td>\n",
       "      <td>...</td>\n",
       "      <td>...</td>\n",
       "      <td>...</td>\n",
       "      <td>...</td>\n",
       "      <td>...</td>\n",
       "      <td>...</td>\n",
       "      <td>...</td>\n",
       "      <td>...</td>\n",
       "      <td>...</td>\n",
       "      <td>...</td>\n",
       "      <td>...</td>\n",
       "      <td>...</td>\n",
       "      <td>...</td>\n",
       "      <td>...</td>\n",
       "      <td>...</td>\n",
       "      <td>...</td>\n",
       "      <td>...</td>\n",
       "      <td>...</td>\n",
       "    </tr>\n",
       "    <tr>\n",
       "      <th>2890</th>\n",
       "      <td>Zorro</td>\n",
       "      <td>17837</td>\n",
       "      <td>318.0</td>\n",
       "      <td>Union County</td>\n",
       "      <td>2015.0</td>\n",
       "      <td>7.704283</td>\n",
       "      <td>Not applicable</td>\n",
       "      <td>164.913356</td>\n",
       "      <td>5.622260</td>\n",
       "      <td>0.224630</td>\n",
       "      <td>...</td>\n",
       "      <td>7.6</td>\n",
       "      <td>34.0</td>\n",
       "      <td>2.8</td>\n",
       "      <td>33.0</td>\n",
       "      <td>22.0</td>\n",
       "      <td>61.1</td>\n",
       "      <td>FALSE</td>\n",
       "      <td>43562</td>\n",
       "      <td>MK279896</td>\n",
       "      <td>3' Sticky Overhang</td>\n",
       "    </tr>\n",
       "    <tr>\n",
       "      <th>2891</th>\n",
       "      <td>Zuko</td>\n",
       "      <td>63303</td>\n",
       "      <td>2309.0</td>\n",
       "      <td>Saint Charles County</td>\n",
       "      <td>2018.0</td>\n",
       "      <td>7.704380</td>\n",
       "      <td>Not applicable</td>\n",
       "      <td>181.154110</td>\n",
       "      <td>7.455525</td>\n",
       "      <td>0.181836</td>\n",
       "      <td>...</td>\n",
       "      <td>9.6</td>\n",
       "      <td>43.0</td>\n",
       "      <td>3.5</td>\n",
       "      <td>42.0</td>\n",
       "      <td>28.0</td>\n",
       "      <td>63.7</td>\n",
       "      <td>None</td>\n",
       "      <td>82302</td>\n",
       "      <td>MN204493</td>\n",
       "      <td>Circularly Permuted</td>\n",
       "    </tr>\n",
       "    <tr>\n",
       "      <th>2892</th>\n",
       "      <td>Zulu</td>\n",
       "      <td>89701</td>\n",
       "      <td>829.0</td>\n",
       "      <td>Carson City</td>\n",
       "      <td>2015.0</td>\n",
       "      <td>7.704335</td>\n",
       "      <td>Peak stage</td>\n",
       "      <td>217.424201</td>\n",
       "      <td>-1.417922</td>\n",
       "      <td>0.263644</td>\n",
       "      <td>...</td>\n",
       "      <td>6.0</td>\n",
       "      <td>27.0</td>\n",
       "      <td>2.2</td>\n",
       "      <td>26.0</td>\n",
       "      <td>17.0</td>\n",
       "      <td>61.4</td>\n",
       "      <td>TRUE</td>\n",
       "      <td>52499</td>\n",
       "      <td>MH779517</td>\n",
       "      <td>3' Sticky Overhang</td>\n",
       "    </tr>\n",
       "    <tr>\n",
       "      <th>2893</th>\n",
       "      <td>ZygoTaiga</td>\n",
       "      <td>55805</td>\n",
       "      <td>7223.0</td>\n",
       "      <td>Saint Louis County</td>\n",
       "      <td>2012.0</td>\n",
       "      <td>7.704623</td>\n",
       "      <td>Peak stage</td>\n",
       "      <td>NaN</td>\n",
       "      <td>NaN</td>\n",
       "      <td>NaN</td>\n",
       "      <td>...</td>\n",
       "      <td>4.0</td>\n",
       "      <td>18.0</td>\n",
       "      <td>1.4</td>\n",
       "      <td>18.0</td>\n",
       "      <td>11.0</td>\n",
       "      <td>64.7</td>\n",
       "      <td>FALSE</td>\n",
       "      <td>157204</td>\n",
       "      <td>KM881426</td>\n",
       "      <td>Circularly Permuted</td>\n",
       "    </tr>\n",
       "    <tr>\n",
       "      <th>2894</th>\n",
       "      <td>xkcd</td>\n",
       "      <td>95064</td>\n",
       "      <td>3908.0</td>\n",
       "      <td>Santa Cruz County</td>\n",
       "      <td>2008.0</td>\n",
       "      <td>7.701944</td>\n",
       "      <td>Stable, normal stage</td>\n",
       "      <td>206.000799</td>\n",
       "      <td>8.470320</td>\n",
       "      <td>0.136356</td>\n",
       "      <td>...</td>\n",
       "      <td>3.8</td>\n",
       "      <td>17.0</td>\n",
       "      <td>1.4</td>\n",
       "      <td>16.0</td>\n",
       "      <td>11.0</td>\n",
       "      <td>62.8</td>\n",
       "      <td>TRUE</td>\n",
       "      <td>76915</td>\n",
       "      <td>MH590587</td>\n",
       "      <td>3' Sticky Overhang</td>\n",
       "    </tr>\n",
       "  </tbody>\n",
       "</table>\n",
       "<p>2895 rows × 23 columns</p>\n",
       "</div>"
      ],
      "text/plain": [
       "      Phage Name Zipcode  Population Density                County  \\\n",
       "0            244   15260                 NaN      Allegheny County   \n",
       "1          ABCat    6511              9041.0      New Haven County   \n",
       "2            ABU   18107                 NaN    Northampton County   \n",
       "3     ACFishhook   66502               191.0          Riley County   \n",
       "4           AFIS   47907                 NaN     Tippecanoe County   \n",
       "...          ...     ...                 ...                   ...   \n",
       "2890       Zorro   17837               318.0          Union County   \n",
       "2891        Zuko   63303              2309.0  Saint Charles County   \n",
       "2892        Zulu   89701               829.0           Carson City   \n",
       "2893   ZygoTaiga   55805              7223.0    Saint Louis County   \n",
       "2894        xkcd   95064              3908.0     Santa Cruz County   \n",
       "\n",
       "      Year Found        pH          Waterquality         GHI  Dew Point  \\\n",
       "0         2004.0  7.450491  Stable, normal stage  165.319749   6.244064   \n",
       "1         2011.0  7.902840        Not applicable  171.776370   6.426256   \n",
       "2         2009.0  7.834701  Stable, normal stage  170.401370   6.246461   \n",
       "3         2015.0  7.833908    Stable, high stage  189.895320   6.363470   \n",
       "4         2014.0  7.755314        Not applicable  173.166324   6.472374   \n",
       "...          ...       ...                   ...         ...        ...   \n",
       "2890      2015.0  7.704283        Not applicable  164.913356   5.622260   \n",
       "2891      2018.0  7.704380        Not applicable  181.154110   7.455525   \n",
       "2892      2015.0  7.704335            Peak stage  217.424201  -1.417922   \n",
       "2893      2012.0  7.704623            Peak stage         NaN        NaN   \n",
       "2894      2008.0  7.701944  Stable, normal stage  206.000799   8.470320   \n",
       "\n",
       "        Albedo  ...  PM25  PM10  CO_8H  NO2_1H  SO3_1H   GC%  Temperate?  \\\n",
       "0     0.210630  ...   8.4  37.0    3.0    37.0    24.0  63.4        TRUE   \n",
       "1     0.195342  ...  13.0  59.0    4.7    55.0    37.0  63.0        TRUE   \n",
       "2     0.234274  ...  10.0  45.0    3.6    44.0    29.0  66.5       FALSE   \n",
       "3     0.211507  ...   5.7  25.0    2.1    25.0    16.0  64.0        TRUE   \n",
       "4     0.234082  ...   2.8  12.0    1.0    12.0     8.0  63.7        TRUE   \n",
       "...        ...  ...   ...   ...    ...     ...     ...   ...         ...   \n",
       "2890  0.224630  ...   7.6  34.0    2.8    33.0    22.0  61.1       FALSE   \n",
       "2891  0.181836  ...   9.6  43.0    3.5    42.0    28.0  63.7        None   \n",
       "2892  0.263644  ...   6.0  27.0    2.2    26.0    17.0  61.4        TRUE   \n",
       "2893       NaN  ...   4.0  18.0    1.4    18.0    11.0  64.7       FALSE   \n",
       "2894  0.136356  ...   3.8  17.0    1.4    16.0    11.0  62.8        TRUE   \n",
       "\n",
       "      Genome Length(bp)  Accession #             End Type  \n",
       "0                 74483     DQ398041   3' Sticky Overhang  \n",
       "1                 76131     KF188414   3' Sticky Overhang  \n",
       "2                 68850     JF704091  Circularly Permuted  \n",
       "3                 47343     MK284518   3' Sticky Overhang  \n",
       "4                 51737     MK359300   3' Sticky Overhang  \n",
       "...                 ...          ...                  ...  \n",
       "2890              43562     MK279896   3' Sticky Overhang  \n",
       "2891              82302     MN204493  Circularly Permuted  \n",
       "2892              52499     MH779517   3' Sticky Overhang  \n",
       "2893             157204     KM881426  Circularly Permuted  \n",
       "2894              76915     MH590587   3' Sticky Overhang  \n",
       "\n",
       "[2895 rows x 23 columns]"
      ]
     },
     "execution_count": 3,
     "metadata": {},
     "output_type": "execute_result"
    }
   ],
   "source": [
    "df"
   ]
  },
  {
   "cell_type": "code",
   "execution_count": null,
   "metadata": {},
   "outputs": [],
   "source": []
  }
 ],
 "metadata": {
  "kernelspec": {
   "display_name": "Python 3",
   "language": "python",
   "name": "python3"
  },
  "language_info": {
   "codemirror_mode": {
    "name": "ipython",
    "version": 3
   },
   "file_extension": ".py",
   "mimetype": "text/x-python",
   "name": "python",
   "nbconvert_exporter": "python",
   "pygments_lexer": "ipython3",
   "version": "3.7.6"
  }
 },
 "nbformat": 4,
 "nbformat_minor": 4
}
