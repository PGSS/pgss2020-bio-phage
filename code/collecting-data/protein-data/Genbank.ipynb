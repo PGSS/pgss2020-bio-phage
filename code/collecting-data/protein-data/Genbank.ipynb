{
 "cells": [
  {
   "cell_type": "code",
   "execution_count": null,
   "metadata": {},
   "outputs": [],
   "source": [
    "from Bio import Entrez\n",
    "from Bio import SeqIO\n",
    "\n",
    "Entrez.email = \"Your.Name.Here@example.org\"\n",
    "handle = Entrez.efetch(db=\"nucleotide\", id=\"DQ398041\", rettype=\"gb\", retmode=\"gb\")"
   ]
  },
  {
   "cell_type": "code",
   "execution_count": null,
   "metadata": {},
   "outputs": [],
   "source": [
    "from Bio import Entrez\n",
    "from Bio import SeqIO\n",
    "import pandas as pd\n",
    "import csv\n",
    "\n",
    "#Load csv into dataframe, drop extra columns and N/A accession numbers, reset index\n",
    "phages_df = pd.read_csv('CombinedData.csv')\n",
    "#phages_df = phages_df[['Phage Name', 'Accession #']]\n",
    "phages_df = phages_df.dropna(subset=['Accession #'])\n",
    "phages_df = phages_df.reset_index(drop=True)\n",
    "\n",
    "#Entrez email and API\n",
    "#Entrez.email = ''\n",
    "#Entrez.api_key = ''"
   ]
  },
  {
   "cell_type": "code",
   "execution_count": 269,
   "metadata": {},
   "outputs": [],
   "source": [
    "shortened_protein_dict = {}\n",
    "shortened_protein_translations = {}"
   ]
  },
  {
   "cell_type": "code",
   "execution_count": 271,
   "metadata": {
    "scrolled": true
   },
   "outputs": [
    {
     "name": "stdout",
     "output_type": "stream",
     "text": [
      "2325\n",
      "2325\n"
     ]
    }
   ],
   "source": [
    "#Filter out proteins with very few phages to make matching process quicker\n",
    "for key in protein_dict.keys():\n",
    "    if len(protein_dict[key]) > 9:\n",
    "        shortened_protein_dict[key] = protein_dict[key]\n",
    "        shortened_protein_translations[key] = protein_translations[key]\n",
    "\n",
    "\n",
    "print(len(shortened_protein_dict))\n",
    "print(len(shortened_protein_translations))"
   ]
  },
  {
   "cell_type": "code",
   "execution_count": null,
   "metadata": {
    "scrolled": true
   },
   "outputs": [],
   "source": [
    "#Iterate through phages_df\n",
    "for i in range(2602, 2627):\n",
    "    phage_name = phages_df['Phage Name'][i]\n",
    "    accession_number = phages_df['Accession #'][i]\n",
    "    #Get proteins from genbank\n",
    "    handle = Entrez.efetch(db=\"nucleotide\", id=accession_number, rettype=\"gb\", retmode=\"text\")\n",
    "    #matches = 0\n",
    "    for record in SeqIO.parse(handle, 'genbank'):\n",
    "        #Iterate through proteins\n",
    "        for seq_feature in record.features:\n",
    "            match_found = False\n",
    "            if seq_feature.type == 'CDS':\n",
    "                for key in shortened_protein_translations.keys():\n",
    "                    #If protein alreday exists in dict, append phage name to protein_dict\n",
    "                    translation = seq_feature.qualifiers['translation'][0]\n",
    "                    if translation == shortened_protein_translations[key]:\n",
    "                        if phage_name not in protein_dict[key]:\n",
    "                            protein_dict[key].append(phage_name)\n",
    "                            match_found = True\n",
    "                            #matches += 1\n",
    "                            break\n",
    "                #If protein does not already exist in dict, add protein to both protein_dict and protein_translations\n",
    "                if match_found == False:\n",
    "                    #Arbitrary protein numbering system to make referencing proteins easier\n",
    "                    new_key = f\"Protein {len(protein_translations) + 1}\"\n",
    "                    protein_translations[new_key] = seq_feature.qualifiers['translation'][0]\n",
    "                    protein_dict[new_key] = [phage_name]\n",
    "    print(i)\n",
    "    #print(f\"{matches} matches found\")"
   ]
  },
  {
   "cell_type": "code",
   "execution_count": 285,
   "metadata": {},
   "outputs": [
    {
     "name": "stdout",
     "output_type": "stream",
     "text": [
      "2627\n"
     ]
    }
   ],
   "source": [
    "print(len(phages_df))"
   ]
  },
  {
   "cell_type": "code",
   "execution_count": null,
   "metadata": {},
   "outputs": [],
   "source": [
    "from fuzzywuzzy import fuzz \n",
    "from fuzzywuzzy import process \n",
    "\n",
    "#Experimentation with fuzzy string comparison\n",
    "string1 = 'msdyrgthta ptddgysvpl dslsdhtadv yerpqdhhgg ddtetmvavl sargnpharv tiyravphgv tainagdwvs lsegyardhg dtegmtvlra tvrasqvwwd gnslyeygyd gpdtegqta'\n",
    "string2 = 'msdyrgthta ptndgygvsl dslsdhtadv yarprdhhgg ddtetmtava racgnpkarv tiyravphgv ttinagdwvs lsedyarehg dtegmtvlrv tvrasqvwwd gnslyeygyd gpdtegqta'\n",
    "\n",
    "fuzz.ratio(string1, string2)"
   ]
  },
  {
   "cell_type": "code",
   "execution_count": 296,
   "metadata": {},
   "outputs": [],
   "source": [
    "#Save protein_dict to JSON file\n",
    "import json\n",
    "protein_dict_json = json.dumps(protein_dict)\n",
    "f = open('protein_dict.json', 'w')\n",
    "f.write(protein_dict_json)\n",
    "f.close()"
   ]
  },
  {
   "cell_type": "code",
   "execution_count": 297,
   "metadata": {},
   "outputs": [],
   "source": [
    "#Save protein_translations to JSON file\n",
    "protein_translations_json = json.dumps(protein_translations)\n",
    "f = open('protein_translations.json', 'w')\n",
    "f.write(protein_translations_json)\n",
    "f.close()"
   ]
  },
  {
   "cell_type": "code",
   "execution_count": 298,
   "metadata": {},
   "outputs": [],
   "source": [
    "#Save shortened_protein_translations to JSON file\n",
    "shortened_protein_dict_json = json.dumps(shortened_protein_dict)\n",
    "f = open('shortened_protein_dict.json', 'w')\n",
    "f.write(shortened_protein_dict_json)\n",
    "f.close()"
   ]
  },
  {
   "cell_type": "code",
   "execution_count": 299,
   "metadata": {},
   "outputs": [],
   "source": [
    "#Save shortened_protein_translations to JSON file\n",
    "shortened_protein_translations_json = json.dumps(shortened_protein_translations)\n",
    "f = open('shortened_protein_translations.json', 'w')\n",
    "f.write(shortened_protein_translations_json)\n",
    "f.close()"
   ]
  },
  {
   "cell_type": "code",
   "execution_count": 1,
   "metadata": {},
   "outputs": [
    {
     "ename": "NameError",
     "evalue": "name 'shortened_protein_translations' is not defined",
     "output_type": "error",
     "traceback": [
      "\u001b[1;31m---------------------------------------------------------------------------\u001b[0m",
      "\u001b[1;31mNameError\u001b[0m                                 Traceback (most recent call last)",
      "\u001b[1;32m<ipython-input-1-1953b2dc8d2a>\u001b[0m in \u001b[0;36m<module>\u001b[1;34m\u001b[0m\n\u001b[1;32m----> 1\u001b[1;33m \u001b[0mstring1\u001b[0m \u001b[1;33m=\u001b[0m \u001b[0mshortened_protein_translations\u001b[0m\u001b[1;33m[\u001b[0m\u001b[1;34m'Protein 8'\u001b[0m\u001b[1;33m]\u001b[0m\u001b[1;33m\u001b[0m\u001b[1;33m\u001b[0m\u001b[0m\n\u001b[0m\u001b[0;32m      2\u001b[0m \u001b[1;33m\u001b[0m\u001b[0m\n\u001b[0;32m      3\u001b[0m \u001b[1;32mfor\u001b[0m \u001b[0mkey\u001b[0m \u001b[1;32min\u001b[0m \u001b[0mprotein_translations\u001b[0m\u001b[1;33m:\u001b[0m\u001b[1;33m\u001b[0m\u001b[1;33m\u001b[0m\u001b[0m\n\u001b[0;32m      4\u001b[0m     \u001b[1;32mif\u001b[0m \u001b[0mfuzz\u001b[0m\u001b[1;33m.\u001b[0m\u001b[0mratio\u001b[0m\u001b[1;33m(\u001b[0m\u001b[0mstring1\u001b[0m\u001b[1;33m,\u001b[0m \u001b[0mprotein_translations\u001b[0m\u001b[1;33m[\u001b[0m\u001b[0mkey\u001b[0m\u001b[1;33m]\u001b[0m\u001b[1;33m)\u001b[0m \u001b[1;33m>\u001b[0m \u001b[1;36m95\u001b[0m\u001b[1;33m:\u001b[0m\u001b[1;33m\u001b[0m\u001b[1;33m\u001b[0m\u001b[0m\n\u001b[0;32m      5\u001b[0m         \u001b[0mprint\u001b[0m\u001b[1;33m(\u001b[0m\u001b[0mprotein_dict\u001b[0m\u001b[1;33m[\u001b[0m\u001b[0mkey\u001b[0m\u001b[1;33m]\u001b[0m\u001b[1;33m)\u001b[0m\u001b[1;33m\u001b[0m\u001b[1;33m\u001b[0m\u001b[0m\n",
      "\u001b[1;31mNameError\u001b[0m: name 'shortened_protein_translations' is not defined"
     ]
    }
   ],
   "source": [
    "string1 = shortened_protein_translations['Protein 8']\n",
    "\n",
    "for key in protein_translations:\n",
    "    if fuzz.ratio(string1, protein_translations[key]) > 95:\n",
    "        print(protein_dict[key])"
   ]
  },
  {
   "cell_type": "code",
   "execution_count": null,
   "metadata": {},
   "outputs": [],
   "source": [
    "#Fuzzy string comparison, too slow\n",
    "\n",
    "#Iterate through phages_df\n",
    "#for i in range(57, 2000):\n",
    "    print(i)\n",
    "    phage_name = phages_df['Phage Name'][i]\n",
    "    accession_number = phages_df['Accession #'][i]\n",
    "    #Get proteins from genbank\n",
    "    handle = Entrez.efetch(db=\"nucleotide\", id=accession_number, rettype=\"gb\", retmode=\"gb\")\n",
    "    for record in SeqIO.parse(handle, 'genbank'):\n",
    "        #Iterate through proteins\n",
    "        for seq_feature in record.features:\n",
    "            match_found = False\n",
    "            if seq_feature.type == 'CDS':\n",
    "                for key in protein_translations.keys():\n",
    "                    #If protein alreday exists in dict (using fuzzy string comparison), append phage name to protein_dict\n",
    "                    if fuzz.ratio(seq_feature.qualifiers['translation'][0], protein_translations[key]) > 85:\n",
    "                        if phage_name not in protein_dict[key]:\n",
    "                            protein_dict[key].append(phage_name)\n",
    "                            match_found = True\n",
    "                #If protein does not already exist in dict, add protein to both protein_dict and protein_translations\n",
    "                if match_found == False:\n",
    "                    #Arbitrary protein numbering system to make referencing proteins easier\n",
    "                    new_key = f\"Protein {len(protein_translations) + 1}\"\n",
    "                    protein_translations[new_key] = seq_feature.qualifiers['translation'][0]\n",
    "                    protein_dict[new_key] = [phage_name]"
   ]
  }
 ],
 "metadata": {
  "kernelspec": {
   "display_name": "Python 3",
   "language": "python",
   "name": "python3"
  },
  "language_info": {
   "codemirror_mode": {
    "name": "ipython",
    "version": 3
   },
   "file_extension": ".py",
   "mimetype": "text/x-python",
   "name": "python",
   "nbconvert_exporter": "python",
   "pygments_lexer": "ipython3",
   "version": "3.7.6"
  }
 },
 "nbformat": 4,
 "nbformat_minor": 4
}
