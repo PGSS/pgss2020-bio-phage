{
 "cells": [
  {
   "cell_type": "code",
   "execution_count": null,
   "metadata": {},
   "outputs": [],
   "source": [
    "import pandas as pd\n",
    "from scipy import stats"
   ]
  },
  {
   "cell_type": "code",
   "execution_count": null,
   "metadata": {},
   "outputs": [],
   "source": [
    "import pandas as pd\n",
    "from scipy import stats\n",
    "import json\n",
    "\n",
    "#Load protein dictionaries\n",
    "with open('shortened_protein_dict.json') as file:\n",
    "    protein_dict = json.load(file)\n",
    "\n",
    "with open('shortened_protein_translations.json') as file:\n",
    "    protein_translations = json.load(file)\n",
    "    \n",
    "with open('protein_translations.json') as file:\n",
    "    full_protein_translations = json.load(file)\n",
    "    \n",
    "with open('protein_dict.json') as file:\n",
    "    full_protein_dict = json.load(file)"
   ]
  },
  {
   "cell_type": "code",
   "execution_count": null,
   "metadata": {},
   "outputs": [],
   "source": [
    "phages_df = pd.read_csv('CombinedData.csv')\n",
    "#sequenced_df = pd.read_csv('SequencedPhages.csv')\n",
    "#sequenced_df = sequenced_df[['Phage Name', 'Host']]\n",
    "\n",
    "#phages_df = pd.merge(phages_df, sequenced_df, on='Phage Name')"
   ]
  },
  {
   "cell_type": "code",
   "execution_count": null,
   "metadata": {},
   "outputs": [],
   "source": [
    "host_list = phages_df['Host'].value_counts()\n",
    "host_list = host_list[host_list > 30]\n",
    "print(host_list)"
   ]
  },
  {
   "cell_type": "code",
   "execution_count": null,
   "metadata": {},
   "outputs": [],
   "source": [
    "#host_results = pd.DataFrame({'Host 1': [], 'Host 2': [], 'Factor': [], \n",
    "                             'P-value': [], 'Difference': []})"
   ]
  },
  {
   "cell_type": "code",
   "execution_count": null,
   "metadata": {},
   "outputs": [],
   "source": [
    "factors = ['AQI', 'GHI', 'pH', 'Population Density', 'Dew Point', 'Albedo', 'GC%', 'Genome Length(bp)']\n",
    "\n",
    "#Iterate through host pairs\n",
    "for host1 in host_list.index:\n",
    "    host1_df = phages_df[phages_df['Host'] == host1]\n",
    "    for host2 in host_list.index:\n",
    "        host2_df = phages_df[phages_df['Host'] == host2]\n",
    "        #Make sure pairs of hosts are only counted once\n",
    "        if host_list[host1] > host_list[host2]:\n",
    "            #Iterate through factors\n",
    "            for factor in factors:\n",
    "                p_value = stats.ttest_ind(host1_df[factor], host2_df[factor], nan_policy='omit')[1]\n",
    "                #If significant difference in means, record results\n",
    "                if p_value < 0.001:\n",
    "                    diff = host1_df[factor].mean() - host2_df[factor].mean()\n",
    "                    \n",
    "                    temp_df = pd.DataFrame({'Host 1': [host1], 'Host 2': [host2], 'Factor': [factor], \n",
    "                             'P-value': [p_value], 'Difference': [diff]})\n",
    "                    \n",
    "                    host_results = host_results.append(temp_df, ignore_index='False')\n",
    "                    \n",
    "                    \n",
    "                    \n",
    "                    \n",
    "                    print(factor)\n",
    "                    print(f\"{host1}, {host2}\")\n",
    "                    print(f\"P-value: {p_value}\")\n",
    "                    print(f\"Difference: {diff}\")\n",
    "                    print()"
   ]
  },
  {
   "cell_type": "code",
   "execution_count": null,
   "metadata": {},
   "outputs": [],
   "source": [
    "host_results.to_csv('Host Correlations.csv', index=False)"
   ]
  },
  {
   "cell_type": "code",
   "execution_count": null,
   "metadata": {},
   "outputs": [],
   "source": [
    "gene_host_results = host_results[(host_results['Factor'] == 'Genome Length(bp)') | (host_results['Factor'] == 'GC%')]"
   ]
  },
  {
   "cell_type": "code",
   "execution_count": null,
   "metadata": {},
   "outputs": [],
   "source": [
    "gene_host_results.to_csv('Host Genome Associations.csv', index=False)"
   ]
  }
 ],
 "metadata": {
  "kernelspec": {
   "display_name": "Python 3",
   "language": "python",
   "name": "python3"
  },
  "language_info": {
   "codemirror_mode": {
    "name": "ipython",
    "version": 3
   },
   "file_extension": ".py",
   "mimetype": "text/x-python",
   "name": "python",
   "nbconvert_exporter": "python",
   "pygments_lexer": "ipython3",
   "version": "3.7.6"
  }
 },
 "nbformat": 4,
 "nbformat_minor": 4
}
