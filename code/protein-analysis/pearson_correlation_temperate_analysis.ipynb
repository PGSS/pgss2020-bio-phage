{
 "cells": [
  {
   "cell_type": "code",
   "execution_count": 13,
   "metadata": {},
   "outputs": [],
   "source": [
    "import pandas as pd\n",
    "\n",
    "df = pd.read_csv(\"CombinedData.csv\")"
   ]
  },
  {
   "cell_type": "code",
   "execution_count": null,
   "metadata": {},
   "outputs": [],
   "source": [
    "correlation = df.corr(method='pearson')\n",
    "display(correlation)"
   ]
  },
  {
   "cell_type": "code",
   "execution_count": null,
   "metadata": {},
   "outputs": [],
   "source": [
    "#correlation.to_csv(\"PearsonCorrelation.csv\")"
   ]
  },
  {
   "cell_type": "code",
   "execution_count": 14,
   "metadata": {},
   "outputs": [
    {
     "name": "stdout",
     "output_type": "stream",
     "text": [
      "AQI\n",
      "0.0015700050962334\n",
      "\n",
      "GHI\n",
      "0.2714127087843284\n",
      "\n",
      "pH\n",
      "0.4924098278514145\n",
      "\n",
      "Population Density\n",
      "0.017723126383408148\n",
      "\n",
      "Dew Point\n",
      "0.1075547918258216\n",
      "\n",
      "Albedo\n",
      "0.9521661433441713\n",
      "\n",
      "GC%\n",
      "7.225751955638401e-19\n",
      "\n",
      "Genome Length(bp)\n",
      "1.2852143264549943e-37\n",
      "\n"
     ]
    }
   ],
   "source": [
    "from scipy import stats\n",
    "\n",
    "factors = ['AQI', 'GHI', 'pH', 'Population Density', 'Dew Point', 'Albedo', 'GC%', 'Genome Length(bp)']\n",
    "for factor in factors:\n",
    "    temperate = df[df['Temperate?']=='TRUE'].dropna(subset=[factor])\n",
    "    not_temperate = df[df['Temperate?']=='FALSE'].dropna(subset=[factor])\n",
    "    \n",
    "    p_value = stats.ttest_ind(temperate[factor], not_temperate[factor])[1]\n",
    "    \n",
    "    print(factor)\n",
    "    print(p_value)\n",
    "    print()"
   ]
  },
  {
   "cell_type": "code",
   "execution_count": null,
   "metadata": {},
   "outputs": [],
   "source": [
    "import pandas as pd\n",
    "\n",
    "df = pd.read_csv(\"CombinedData.csv\")\n",
    "df = df.drop(columns=['Zipcode', 'County', 'Year Found', 'Latitude', 'Longitude', 'PM25', 'PM10', 'CO_8H', 'NO2_1H', 'SO3_1H', 'Phage Name', 'Temperate?', 'Accession #'])\n",
    "columns_list = ['Population Density', 'pH', 'GHI', 'Dew Point', 'Albedo', 'AQI', 'Genome Length(bp)']\n",
    "\n",
    "for col in columns_list:\n",
    "    temp = df.dropna(subset=[col])\n",
    "    temp.plot(x=col, y='GC%', kind='scatter')"
   ]
  }
 ],
 "metadata": {
  "kernelspec": {
   "display_name": "Python 3",
   "language": "python",
   "name": "python3"
  },
  "language_info": {
   "codemirror_mode": {
    "name": "ipython",
    "version": 3
   },
   "file_extension": ".py",
   "mimetype": "text/x-python",
   "name": "python",
   "nbconvert_exporter": "python",
   "pygments_lexer": "ipython3",
   "version": "3.7.6"
  }
 },
 "nbformat": 4,
 "nbformat_minor": 4
}
