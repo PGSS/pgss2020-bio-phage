{
 "cells": [
  {
   "cell_type": "code",
   "execution_count": 1,
   "metadata": {},
   "outputs": [],
   "source": [
    "import pandas as pd\n",
    "from scipy import stats\n",
    "import json\n",
    "\n",
    "#Load protein dictionaries\n",
    "with open('shortened_protein_dict.json') as file:\n",
    "    protein_dict = json.load(file)\n",
    "\n",
    "with open('shortened_protein_translations.json') as file:\n",
    "    protein_translations = json.load(file)\n",
    "    \n",
    "with open('protein_translations.json') as file:\n",
    "    full_protein_translations = json.load(file)\n",
    "    \n",
    "with open('protein_dict.json') as file:\n",
    "    full_protein_dict = json.load(file)"
   ]
  },
  {
   "cell_type": "code",
   "execution_count": 2,
   "metadata": {},
   "outputs": [],
   "source": [
    "phages_df = pd.read_csv('CombinedData.csv')\n",
    "sequenced_df = pd.read_csv('SequencedPhages.csv')\n",
    "sequenced_df = sequenced_df[['Phage Name', 'Host']]\n",
    "\n",
    "phages_df = pd.merge(phages_df, sequenced_df, on='Phage Name')"
   ]
  },
  {
   "cell_type": "code",
   "execution_count": 43,
   "metadata": {},
   "outputs": [],
   "source": [
    "#phages_df.to_csv('CombinedData.csv', index=False)"
   ]
  },
  {
   "cell_type": "code",
   "execution_count": 3,
   "metadata": {},
   "outputs": [],
   "source": [
    "results_df = pd.read_csv('protein_results.csv')"
   ]
  },
  {
   "cell_type": "code",
   "execution_count": 6,
   "metadata": {},
   "outputs": [],
   "source": [
    "#Only include proteins with a certain number of phages\n",
    "shortened_dict = {}\n",
    "\n",
    "for key in protein_dict.keys():\n",
    "    if len(protein_dict[key]) > 19:\n",
    "        shortened_dict[key] = protein_dict[key]\n",
    "\n",
    "\n",
    "protein_dict = shortened_dict\n"
   ]
  },
  {
   "cell_type": "code",
   "execution_count": 40,
   "metadata": {},
   "outputs": [],
   "source": [
    "from fuzzywuzzy import fuzz\n",
    "from fuzzywuzzy import process\n",
    "\n",
    "#Fuzzy string comparison to match proteins\n",
    "def fuzzy_protein_match(protein):\n",
    "    phages_list = []\n",
    "    string = protein_translations[protein]\n",
    "    for key in full_protein_translations:\n",
    "        if fuzz.ratio(string, full_protein_translations[key]) > 95:\n",
    "            for phage in full_protein_dict[key]:\n",
    "                if phage not in phages_list:\n",
    "                    #Append phage to protein_dict if fuzzy match is found\n",
    "                    phages_list.append(phage)\n",
    "    return phages_list"
   ]
  },
  {
   "cell_type": "code",
   "execution_count": 39,
   "metadata": {},
   "outputs": [],
   "source": [
    "#protein_name = 'Protein 334'\n",
    "\n",
    "#print(len(protein_dict[protein_name]))\n",
    "#fuzzy_protein_match(protein_name)\n",
    "#print(len(protein_dict[protein_name]))\n",
    "#print(len(protein_dict['Protein 2575']))\n",
    "#protein_dict1 = fuzzy_protein_match('Protein 2575')\n",
    "#print(len(protein_dict1))"
   ]
  },
  {
   "cell_type": "code",
   "execution_count": 95,
   "metadata": {},
   "outputs": [],
   "source": [
    "#Chi square test for homogeneity\n",
    "def chi2_test(key, factor, bins):\n",
    "    qcut_col = f'{factor}_qcut'\n",
    "    df = host_df[['Phage Name', factor]]\n",
    "    \n",
    "    #Create labels list of length {quantiles}\n",
    "    labels = []\n",
    "    for i in range(bins):\n",
    "        labels.append(i)\n",
    "        \n",
    "    #Separate into equal quantiles using qcut\n",
    "    df[qcut_col] = pd.qcut(host_df[factor], q=bins,\n",
    "                                labels=labels)\n",
    "    \n",
    "    #Create two df, one with protein and one without\n",
    "    has_protein = df[df['Phage Name'].isin(protein_dict[key])]\n",
    "    no_protein = df[df['Phage Name'].isin(protein_dict[key]) == False]\n",
    "    \n",
    "    #Initialize empty lists for counts for each bin\n",
    "    yes_counts = []\n",
    "    no_counts = []\n",
    "    \n",
    "    #Append counts to contigency table row lists\n",
    "    for label in labels:\n",
    "        yes_counts.append(len(has_protein[has_protein[qcut_col] == label]))\n",
    "        no_counts.append(len(no_protein[no_protein[qcut_col] == label]))\n",
    " \n",
    "    #Contingency table\n",
    "    data = [yes_counts, no_counts]\n",
    "    \n",
    "    return data\n"
   ]
  },
  {
   "cell_type": "code",
   "execution_count": 96,
   "metadata": {},
   "outputs": [],
   "source": [
    "#Second chi square test for homogeneity using fuzzy protein match\n",
    "def chi2_test_fuzzy(key, factor, bins):\n",
    "    qcut_col = f'{factor}_qcut'\n",
    "    df = host_df[['Phage Name', factor]]\n",
    "    \n",
    "    #Create labels list of length {quantiles}\n",
    "    labels = []\n",
    "    for i in range(bins):\n",
    "        labels.append(i)\n",
    "        \n",
    "    #Separate into equal quantiles using qcut\n",
    "    df[qcut_col] = pd.qcut(host_df[factor], q=bins,\n",
    "                                labels=labels)\n",
    "    \n",
    "    phages_list = fuzzy_protein_match(key)\n",
    "    \n",
    "    #Create two df, one with protein and one without\n",
    "    has_protein = df[df['Phage Name'].isin(phages_list)]\n",
    "    no_protein = df[df['Phage Name'].isin(phages_list) == False]\n",
    "    \n",
    "    #Initialize empty lists for counts for each bin\n",
    "    yes_counts = []\n",
    "    no_counts = []\n",
    "    \n",
    "    #Append counts to contigency table row lists\n",
    "    for label in labels:\n",
    "        yes_counts.append(len(has_protein[has_protein[qcut_col] == label]))\n",
    "        no_counts.append(len(no_protein[no_protein[qcut_col] == label]))\n",
    " \n",
    "    #Contingency table\n",
    "    data = [yes_counts, no_counts]\n",
    "    \n",
    "    return data\n"
   ]
  },
  {
   "cell_type": "code",
   "execution_count": 80,
   "metadata": {},
   "outputs": [],
   "source": [
    "###spurious_results_df = pd.DataFrame({'Protein': [], 'P value': [], 'Factor': [], 'Host': [], 'Has protein': [], 'No protein': [], 'Translation': []})"
   ]
  },
  {
   "cell_type": "code",
   "execution_count": 42,
   "metadata": {
    "scrolled": true
   },
   "outputs": [],
   "source": [
    "#Limit to one host\n",
    "host = 'Microbacterium foliorum NRRL B-24224'\n",
    "host_df = phages_df[phages_df['Host'] == host]\n",
    "\n",
    "#host_df['Zipcode'] = pd.to_numeric(host_df['Zipcode'], errors='coerce')"
   ]
  },
  {
   "cell_type": "code",
   "execution_count": 31,
   "metadata": {},
   "outputs": [],
   "source": [
    "#quartiles_df = pd.DataFrame({'Factor': [], 'Min': [], 'Q1': [], 'Med': [],\n",
    "                         #'Q3': [], 'Max': [], 'Host': []})"
   ]
  },
  {
   "cell_type": "code",
   "execution_count": 41,
   "metadata": {},
   "outputs": [
    {
     "name": "stdout",
     "output_type": "stream",
     "text": [
      "[10035. 15260. 23061. 43950. 99258.]\n"
     ]
    },
    {
     "name": "stderr",
     "output_type": "stream",
     "text": [
      "C:\\Users\\Chenchen\\anaconda3\\lib\\site-packages\\ipykernel_launcher.py:2: SettingWithCopyWarning: \n",
      "A value is trying to be set on a copy of a slice from a DataFrame.\n",
      "Try using .loc[row_indexer,col_indexer] = value instead\n",
      "\n",
      "See the caveats in the documentation: https://pandas.pydata.org/pandas-docs/stable/user_guide/indexing.html#returning-a-view-versus-a-copy\n",
      "  \n"
     ]
    }
   ],
   "source": [
    "#host_df['Zipcode'] = pd.to_numeric(host_df['Zipcode'], errors='coerce')\n",
    "#host_df = host_df[host_df['Zipcode'] >= 10000]\n",
    "\n",
    "for factor in factors:\n",
    "    quartiles = pd.qcut(host_df[factor], q=4, retbins=True)\n",
    "    print(quartiles[1])\n",
    "    #temp_df = pd.DataFrame({'Factor': [factor], 'Min': [quartiles[1][0]], 'Q1': [quartiles[1][1]], 'Med': [quartiles[1][2]],\n",
    "                         #'Q3': [quartiles[1][3]], 'Max': [quartiles[1][4]], 'Host': [host]})\n",
    "    #quartiles_df= quartiles_df.append(temp_df, ignore_index='False')"
   ]
  },
  {
   "cell_type": "code",
   "execution_count": 37,
   "metadata": {},
   "outputs": [],
   "source": [
    "quartiles_df.to_csv('Factor Quartiles.csv', index=False)"
   ]
  },
  {
   "cell_type": "code",
   "execution_count": 115,
   "metadata": {
    "scrolled": true
   },
   "outputs": [],
   "source": [
    "def test_proteins(factor):\n",
    "    yes1 = 0\n",
    "    yes2= 0\n",
    "    #Iterate through proteins \n",
    "    for key in protein_dict.keys():\n",
    "        #Number of bins\n",
    "        bins = 4\n",
    "        #Significance level (alpha)\n",
    "        sig_lvl1 = 0.001\n",
    "        sig_lvl2 = 0.001\n",
    "\n",
    "        data = chi2_test(key, factor, bins)\n",
    "        #Check that all counts are >= 5\n",
    "        if all(i >= 5 for i in data[0]):\n",
    "            p_value = stats.chi2_contingency(data)[1]\n",
    "            #If p value is significant using exact matches\n",
    "            if p_value < sig_lvl1:\n",
    "                yes1+= 1\n",
    "                #Run the test again, using fuzzy string match to expand list of phages with that protein\n",
    "                data_fuzzy = chi2_test_fuzzy(key, factor, quantiles)\n",
    "                p_value_fuzzy = stats.chi2_contingency(data_fuzzy)[1]\n",
    "                #If fuzzy p value is significant\n",
    "                if p_value_fuzzy < sig_lvl2:\n",
    "                    yes2+= 1\n",
    "                    temp_df = pd.DataFrame({'Protein': [key], 'P value': [p_value_fuzzy], 'Factor': [factor], 'Host': [host],\n",
    "                                                    'Has protein': [data_fuzzy[0]], 'No protein': [data_fuzzy[1]], 'Translation': [protein_translations[key]]})\n",
    "\n",
    "                    results_df = results_df.append(temp_df, ignore_index='False')\n",
    "\n",
    "\n",
    "                print(factor)\n",
    "                print(key)\n",
    "                print(f\"P-value: {p_value_fuzzy}\")\n",
    "                print(f\"Protein translation: {protein_translations[key]}\")\n",
    "                print(f\"Has protein: {data_fuzzy[0]}\")\n",
    "                print(f\"Does not have protein: {data_fuzzy[1]}\")\n",
    "                print('\\n\\n')\n",
    "\n",
    "\n",
    "    print(yes1\n",
    "    print(yes2"
   ]
  },
  {
   "cell_type": "code",
   "execution_count": 16,
   "metadata": {},
   "outputs": [],
   "source": [
    "factors = ['AQI', 'GHI', 'pH', 'Population Density', 'Dew Point', 'Albedo']\n",
    "for factor in factors:\n",
    "    test_proteins(factor)"
   ]
  },
  {
   "cell_type": "code",
   "execution_count": null,
   "metadata": {
    "scrolled": true
   },
   "outputs": [],
   "source": [
    "#Only using exact string comparison, no fuzzy compare\n",
    "\n",
    "#Limit to one host\n",
    "host = 'Microbacterium foliorum NRRL B-24224\n",
    "host_df = phages_df[phages_df['Host'] == host]\n",
    "#host_df['Zipcode'] = pd.to_numeric(host_df['Zipcode'], errors='coerce')\n",
    "\n",
    "\n",
    "#print(str(len(host_df)) + ' phages')\n",
    "yes = 0\n",
    "\n",
    "#Iterate through proteins \n",
    "for key in protein_dict.keys():\n",
    "    #Factor of interest\n",
    "    factor = 'Longitude'\n",
    "    #Number of bins\n",
    "    bins = 4\n",
    "    #Significance level (alpha)\n",
    "    sig_lvl = 0.001\n",
    "    \n",
    "    data = chi2_test(key, factor, bins)\n",
    "    #Check that all counts are >= 5\n",
    "    if all(i >= 5 for i in data[0]):\n",
    "        p_value = stats.chi2_contingency(data)[1]\n",
    "        #If p value is significant using exact matches\n",
    "        if p_value < sig_lvl:\n",
    "            temp_df = pd.DataFrame({'Protein': [key], 'P value': [p_value], 'Factor': [factor], 'Host': [host],\n",
    "                                                'Has protein': [data[0]], 'No protein': [data[1]], 'Translation': [protein_translations[key]]})\n",
    "\n",
    "            ###results_df = results_df.append(temp_df, ignore_index='False')\n",
    "\n",
    "\n",
    "            print(factor)\n",
    "            print(key)\n",
    "            print(f\"P-value: {p_value}\")\n",
    "            print(f\"Protein translation: {protein_translations[key]}\")\n",
    "            print(f\"Has protein: {data[0]}\")\n",
    "            print(f\"Does not have protein: {data[1]}\")\n",
    "            print('\\n\\n')\n",
    "            yes += 1\n",
    "   \n",
    "print(yes)\n"
   ]
  },
  {
   "cell_type": "code",
   "execution_count": 90,
   "metadata": {
    "scrolled": true
   },
   "outputs": [
    {
     "data": {
      "text/plain": [
       "Mycobacterium smegmatis mc¬≤155               1560\n",
       "Gordonia terrae 3612                           331\n",
       "Microbacterium foliorum NRRL B-24224           261\n",
       "Arthrobacter sp.  ATCC 21022                   203\n",
       "Streptomyces griseus ATCC 10137                 88\n",
       "Arthrobacter globiformis B-2979                 76\n",
       "Gordonia rubripertincta NRRL B-16540            36\n",
       "Rhodococcus erythropolis RIA 643                34\n",
       "Microbacterium paraoxydans NWU1                 27\n",
       "Streptomyces lividans JI 1326                   25\n",
       "Propionibacterium acnes ATCC 6919               25\n",
       "Gordonia terrae CAG3                            24\n",
       "Streptomyces xanthochromogenes NRRL B-5410      18\n",
       "Streptomyces viridochromogenes DSM40736         15\n",
       "Streptomyces venezuelae ATCC 10712              14\n",
       "Streptomyces scabiei RL-34                      14\n",
       "Gordonia terrae NRRL B-16283                    13\n",
       "Microbacterium paraoxydans NRRL B-14843         13\n",
       "Streptomyces griseofuscus ATCC 23916            13\n",
       "Corynebacterium xerosis ATCC 373                 9\n",
       "Streptomyces sanglieri UNT16F27A                 8\n",
       "Streptomyces platensis MJ1A1                     8\n",
       "Mycobacterium smegmatis ATCC 607                 7\n",
       "Rhodococcus erythropolis NRRL B-1574             5\n",
       "Streptomyces azureus NRRL B-2655                 5\n",
       "Streptomyces mirabilis NRRL B-2400               5\n",
       "Corynebacterium vitaeruminis NCIB 9291           4\n",
       "Microbacterium liquefaciens LMG 16120            4\n",
       "Streptomyces toxytricini NRRL B-5426             4\n",
       "Arthrobacter atrocyaneus NRRL B-2883             3\n",
       "Microbacterium aerolatum NRRL B-24228            3\n",
       "Corynebacterium vitaeruminis CAG1                3\n",
       "Arthrobacter sp.  68b                            3\n",
       "Arthrobacter sulfureus NRRL B-14730              3\n",
       "Gordonia westfalica NRRL B-24152                 2\n",
       "Mycobacterium phlei str.                         2\n",
       "Mycobacterium phlei GTIS10                       2\n",
       "Gordonia neofelifaecis NRRL 59395                2\n",
       "Propionibacterium freudenreichii TL 110          2\n",
       "Propionibacterium acnes ATCC 29399               2\n",
       "Mycobacterium sp. GD01                           1\n",
       "Microbacterium natoriense ATCC BAA-1032          1\n",
       "Mycobacterium avium AV6                          1\n",
       "Streptomyces sp. baron 5a                        1\n",
       "Streptomyces virginiae ISP-5094                  1\n",
       "Mycobacterium aichiense ATCC 27280               1\n",
       "Streptomyces indigocolor NRRL B-12366            1\n",
       "Rothia dentocariosa TC5                          1\n",
       "Gordonia rubripertincta Grub38                   1\n",
       "Brevibacterium fuscum NRRL B-14687               1\n",
       "Mycobacterium avium CDC-A1                       1\n",
       "Mycobacterium avium A6                           1\n",
       "Mycobacterium avium McK                          1\n",
       "Corynebacterium flavescens ATCC 10340            1\n",
       "Streptomyces tricolor NRRL B-16925               1\n",
       "Mycobacterium avium C3                           1\n",
       "Microbacterium sp. ISAT203                       1\n",
       "Brevibacterium iodinum ATCC 15728                1\n",
       "Mycobacterium avium F2102                        1\n",
       "Name: Host, dtype: int64"
      ]
     },
     "execution_count": 90,
     "metadata": {},
     "output_type": "execute_result"
    }
   ],
   "source": [
    "phages_df['Host'].value_counts()"
   ]
  },
  {
   "cell_type": "code",
   "execution_count": 116,
   "metadata": {},
   "outputs": [],
   "source": [
    "#results_df.to_csv('protein_results_fuzzy.csv', index=False)"
   ]
  },
  {
   "cell_type": "code",
   "execution_count": 89,
   "metadata": {},
   "outputs": [],
   "source": [
    "#spurious_results_df.to_csv('Spurious Results.csv', index=False)"
   ]
  },
  {
   "cell_type": "code",
   "execution_count": null,
   "metadata": {},
   "outputs": [],
   "source": [
    "#T-test between phages with protein and without protein\n",
    "\n",
    "phages_df = phages_df[phages_df['Host'] == 'Mycobacterium smegmatis mc¬≤155']\n",
    "\n",
    "for key in protein_dict.keys():\n",
    "    has_protein = phages_df[phages_df['Phage Name'].isin(protein_dict[key])]\n",
    "    no_protein = phages_df[phages_df['Phage Name'].isin(protein_dict[key]) == False]\n",
    "    factor = 'AQI'\n",
    "    has_protein = has_protein.dropna(subset=[factor])\n",
    "    no_protein = no_protein.dropna(subset=[factor])\n",
    "    p_value = stats.ttest_ind(has_protein[factor], no_protein[factor])[1]\n",
    "    if p_value < 0.001:\n",
    "        print(key)\n",
    "        print(p_value)\n",
    "        print(f\"Has protein: {has_protein[factor].mean()}\")\n",
    "        print(f\"Does not have protein: {no_protein[factor].mean()}\")\n",
    "        print(f\"Protein translation: {protein_translations[key]}\")\n",
    "        print()\n",
    "    "
   ]
  }
 ],
 "metadata": {
  "kernelspec": {
   "display_name": "Python 3",
   "language": "python",
   "name": "python3"
  },
  "language_info": {
   "codemirror_mode": {
    "name": "ipython",
    "version": 3
   },
   "file_extension": ".py",
   "mimetype": "text/x-python",
   "name": "python",
   "nbconvert_exporter": "python",
   "pygments_lexer": "ipython3",
   "version": "3.7.6"
  }
 },
 "nbformat": 4,
 "nbformat_minor": 4
}
